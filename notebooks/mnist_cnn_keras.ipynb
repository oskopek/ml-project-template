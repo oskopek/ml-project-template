{
 "cells": [
  {
   "cell_type": "code",
   "execution_count": null,
   "metadata": {
    "colab": {
     "autoexec": {
      "startup": false,
      "wait_interval": 0
     }
    },
    "colab_type": "code",
    "id": "c4FDzOsaw6_P"
   },
   "outputs": [],
   "source": [
    "COLAB = False"
   ]
  },
  {
   "cell_type": "markdown",
   "metadata": {
    "colab_type": "text",
    "id": "1fc0svhAvL2E"
   },
   "source": [
    "### Path setup"
   ]
  },
  {
   "cell_type": "code",
   "execution_count": null,
   "metadata": {
    "colab": {
     "autoexec": {
      "startup": false,
      "wait_interval": 0
     },
     "base_uri": "https://localhost:8080/",
     "height": 85,
     "output_extras": [
      {
       "item_id": 1
      }
     ]
    },
    "colab_type": "code",
    "executionInfo": {
     "elapsed": 765,
     "status": "ok",
     "timestamp": 1520212837341,
     "user": {
      "displayName": "Ondrej Skopek",
      "photoUrl": "//lh6.googleusercontent.com/-WGkwqACs-x0/AAAAAAAAAAI/AAAAAAAACk8/KLm0zyt0xu0/s50-c-k-no/photo.jpg",
      "userId": "110435012592377289802"
     },
     "user_tz": -60
    },
    "id": "OWJxXDk0sPY7",
    "outputId": "231714fe-e5e3-4d10-f2a9-f767c4dfc83b"
   },
   "outputs": [],
   "source": [
    "# noqa\n",
    "import os\n",
    "if COLAB:\n",
    "    %cd /content\n",
    "    ROOT_DIR = '/content'\n",
    "    REPO_DIR = os.path.join(ROOT_DIR, 'ml_project_template')\n",
    "    LOG_DIR = os.path.join(REPO_DIR, 'data_out')\n",
    "\n",
    "    if not os.path.isdir(REPO_DIR):\n",
    "      !git clone https://github.com/oskopek/ml_project_template.git\n",
    "    if not os.path.isdir(LOG_DIR):\n",
    "      os.makedirs(LOG_DIR)\n",
    "    %cd 'ml_project_template'\n",
    "    %ls\n",
    "else:\n",
    "    wd = %pwd\n",
    "    print('Current directory:', wd)\n",
    "    if wd.endswith('notebooks'):\n",
    "        %cd .."
   ]
  },
  {
   "cell_type": "markdown",
   "metadata": {
    "colab_type": "text",
    "id": "zQbS6L9Gwo3m"
   },
   "source": [
    "### Install missing packages\n",
    "\n",
    "Do not want to do `pip install -r requirements.txt` because that will overwrite the versions on Colab"
   ]
  },
  {
   "cell_type": "code",
   "execution_count": null,
   "metadata": {
    "colab": {
     "autoexec": {
      "startup": false,
      "wait_interval": 0
     }
    },
    "colab_type": "code",
    "id": "_kLthw9hwoGU"
   },
   "outputs": [],
   "source": [
    "# noqa\n",
    "if COLAB:\n",
    "    !pip install dotmap==1.2.20"
   ]
  },
  {
   "cell_type": "markdown",
   "metadata": {
    "colab_type": "text",
    "id": "ll72CJURwdgX"
   },
   "source": [
    "### Branch selection"
   ]
  },
  {
   "cell_type": "code",
   "execution_count": null,
   "metadata": {
    "colab": {
     "autoexec": {
      "startup": false,
      "wait_interval": 0
     },
     "base_uri": "https://localhost:8080/",
     "height": 51,
     "output_extras": [
      {
       "item_id": 1
      }
     ]
    },
    "colab_type": "code",
    "executionInfo": {
     "elapsed": 764,
     "status": "ok",
     "timestamp": 1520212841227,
     "user": {
      "displayName": "Ondrej Skopek",
      "photoUrl": "//lh6.googleusercontent.com/-WGkwqACs-x0/AAAAAAAAAAI/AAAAAAAACk8/KLm0zyt0xu0/s50-c-k-no/photo.jpg",
      "userId": "110435012592377289802"
     },
     "user_tz": -60
    },
    "id": "QSaOfz51tgq0",
    "outputId": "52ad7b1d-55fe-452e-8b0c-1a0c10d064a1"
   },
   "outputs": [],
   "source": [
    "# noqa\n",
    "if COLAB:\n",
    "    !git checkout master"
   ]
  },
  {
   "cell_type": "markdown",
   "metadata": {
    "colab_type": "text",
    "id": "ldJXLaOZwzu_"
   },
   "source": [
    "### Tensorboard setup"
   ]
  },
  {
   "cell_type": "code",
   "execution_count": null,
   "metadata": {
    "colab": {
     "autoexec": {
      "startup": false,
      "wait_interval": 0
     },
     "base_uri": "https://localhost:8080/",
     "height": 85,
     "output_extras": [
      {
       "item_id": 3
      },
      {
       "item_id": 4
      }
     ]
    },
    "colab_type": "code",
    "executionInfo": {
     "elapsed": 3658,
     "status": "ok",
     "timestamp": 1520212899593,
     "user": {
      "displayName": "Ondrej Skopek",
      "photoUrl": "//lh6.googleusercontent.com/-WGkwqACs-x0/AAAAAAAAAAI/AAAAAAAACk8/KLm0zyt0xu0/s50-c-k-no/photo.jpg",
      "userId": "110435012592377289802"
     },
     "user_tz": -60
    },
    "id": "VreinDV9u-Dm",
    "outputId": "a4a3912f-8808-4903-d8cd-fb219c85d938"
   },
   "outputs": [],
   "source": [
    "# noqa\n",
    "if COLAB:\n",
    "    import os\n",
    "    import resources.colab_utils.tboard as tboard\n",
    "\n",
    "    # will install `ngrok`, if necessary\n",
    "    # will create `log_dir` if path does not exist\n",
    "    tboard.launch_tensorboard(bin_dir=REPO_DIR, log_dir=LOG_DIR)"
   ]
  },
  {
   "cell_type": "markdown",
   "metadata": {
    "colab_type": "text",
    "id": "SXGsKiv1vPpk"
   },
   "source": [
    "## Actual notebook"
   ]
  },
  {
   "cell_type": "code",
   "execution_count": null,
   "metadata": {
    "colab": {
     "autoexec": {
      "startup": false,
      "wait_interval": 0
     }
    },
    "colab_type": "code",
    "id": "HH88JMfnr_mI"
   },
   "outputs": [],
   "source": [
    "import keras\n",
    "from keras.datasets import mnist\n",
    "from keras.models import Sequential\n",
    "from keras.layers import Dense, Dropout, Flatten\n",
    "from keras.layers import Conv2D, MaxPooling2D\n",
    "from keras import backend as K\n",
    "\n",
    "from models.base import KerasModel\n",
    "\n",
    "# Flags\n",
    "from flags import flags_parser\n",
    "flags_parser.parse('flags/cnn.json', None)\n",
    "FLAGS = flags_parser.FLAGS\n",
    "assert FLAGS is not None"
   ]
  },
  {
   "cell_type": "code",
   "execution_count": null,
   "metadata": {},
   "outputs": [],
   "source": [
    "# Model\n",
    "class MnistCnn(KerasModel):\n",
    "    # Setup constants\n",
    "    IMAGE_SIZE = 28\n",
    "\n",
    "    def __init__(self):\n",
    "        super(MnistCnn, self).__init__(\n",
    "            logdir=FLAGS.data.out_dir, expname=\"MNIST-CNN\", threads=FLAGS.training.threads, seed=FLAGS.training.seed)\n",
    "\n",
    "    # Construct the graph\n",
    "    def _build(self):\n",
    "        model = Sequential()\n",
    "        model.add(Conv2D(32, kernel_size=(3, 3), activation='relu', input_shape=self.input_shape))\n",
    "        model.add(Conv2D(64, (3, 3), activation='relu'))\n",
    "        model.add(MaxPooling2D(pool_size=(2, 2)))\n",
    "        model.add(Dropout(0.25))\n",
    "        model.add(Flatten())\n",
    "        model.add(Dense(128, activation='relu'))\n",
    "        model.add(Dropout(0.5))\n",
    "        model.add(Dense(FLAGS.model.arch.num_classes, activation='softmax'))\n",
    "\n",
    "        optimizer = keras.optimizers.Adadelta(lr=FLAGS.model.optimization.learning_rate)\n",
    "        model.compile(loss=keras.losses.categorical_crossentropy, optimizer=optimizer, metrics=['accuracy'])\n",
    "\n",
    "        self.model = model\n",
    "\n",
    "    def _load_data(self):\n",
    "        # the data, shuffled and split between train and test sets\n",
    "        (x_train, y_train), (x_test, y_test) = mnist.load_data()\n",
    "\n",
    "        if K.image_data_format() == 'channels_first':\n",
    "            x_train = x_train.reshape(x_train.shape[0], 1, self.IMAGE_SIZE, self.IMAGE_SIZE)\n",
    "            x_test = x_test.reshape(x_test.shape[0], 1, self.IMAGE_SIZE, self.IMAGE_SIZE)\n",
    "            self.input_shape = (1, self.IMAGE_SIZE, self.IMAGE_SIZE)\n",
    "        else:\n",
    "            x_train = x_train.reshape(x_train.shape[0], self.IMAGE_SIZE, self.IMAGE_SIZE, 1)\n",
    "            x_test = x_test.reshape(x_test.shape[0], self.IMAGE_SIZE, self.IMAGE_SIZE, 1)\n",
    "            self.input_shape = (self.IMAGE_SIZE, self.IMAGE_SIZE, 1)\n",
    "\n",
    "        x_train = x_train.astype('float32')\n",
    "        x_test = x_test.astype('float32')\n",
    "        x_train /= 255\n",
    "        x_test /= 255\n",
    "        print('x_train shape:', x_train.shape)\n",
    "        print(x_train.shape[0], 'train samples')\n",
    "        print(x_test.shape[0], 'test samples')\n",
    "\n",
    "        # convert class vectors to binary class matrices\n",
    "        y_train = keras.utils.to_categorical(y_train, FLAGS.model.arch.num_classes)\n",
    "        y_test = keras.utils.to_categorical(y_test, FLAGS.model.arch.num_classes)\n",
    "        return (x_train, y_train), (x_test, y_test)\n",
    "\n",
    "    def run(self):\n",
    "        (x_train, y_train), (x_test, y_test) = self._load_data()\n",
    "        self._build()\n",
    "\n",
    "        self.model.fit(\n",
    "            x_train,\n",
    "            y_train,\n",
    "            batch_size=FLAGS.model.optimization.batch_size,\n",
    "            epochs=FLAGS.model.optimization.epochs,\n",
    "            verbose=1,\n",
    "            validation_data=(x_test, y_test),\n",
    "            callbacks=self.callbacks)\n",
    "\n",
    "        score = self.model.evaluate(x_test, y_test, verbose=0)\n",
    "        print('Test loss:', score[0])\n",
    "        print('Test accuracy:', score[1])"
   ]
  },
  {
   "cell_type": "code",
   "execution_count": null,
   "metadata": {
    "colab": {
     "autoexec": {
      "startup": false,
      "wait_interval": 0
     },
     "base_uri": "https://localhost:8080/",
     "height": 5950,
     "output_extras": [
      {
       "item_id": 37
      },
      {
       "item_id": 86
      },
      {
       "item_id": 131
      },
      {
       "item_id": 169
      },
      {
       "item_id": 205
      }
     ]
    },
    "colab_type": "code",
    "id": "vHe0Nygcr_mY",
    "outputId": "22c536e5-c28b-493a-a7dd-4461299960cf"
   },
   "outputs": [],
   "source": [
    "# Run\n",
    "MnistCnn().run()"
   ]
  }
 ],
 "metadata": {
  "accelerator": "GPU",
  "colab": {
   "collapsed_sections": [],
   "default_view": {},
   "name": "mnist_gan_graph.ipynb",
   "provenance": [],
   "version": "0.3.2",
   "views": {}
  },
  "kernelspec": {
   "display_name": "Python 3",
   "language": "python",
   "name": "python3"
  },
  "language_info": {
   "codemirror_mode": {
    "name": "ipython",
    "version": 3
   },
   "file_extension": ".py",
   "mimetype": "text/x-python",
   "name": "python",
   "nbconvert_exporter": "python",
   "pygments_lexer": "ipython3",
   "version": "3.6.4"
  }
 },
 "nbformat": 4,
 "nbformat_minor": 1
}
