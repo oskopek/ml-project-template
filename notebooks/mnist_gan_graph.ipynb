{
 "cells": [
  {
   "cell_type": "markdown",
   "metadata": {
    "colab_type": "text",
    "id": "1fc0svhAvL2E"
   },
   "source": [
    "### Path setup"
   ]
  },
  {
   "cell_type": "code",
   "execution_count": null,
   "metadata": {
    "colab": {
     "autoexec": {
      "startup": false,
      "wait_interval": 0
     },
     "base_uri": "https://localhost:8080/",
     "height": 124,
     "output_extras": [
      {
       "item_id": 3
      }
     ]
    },
    "colab_type": "code",
    "executionInfo": {
     "elapsed": 3589,
     "status": "ok",
     "timestamp": 1521028382111,
     "user": {
      "displayName": "Lukas Jendele",
      "photoUrl": "//lh6.googleusercontent.com/-1bcOrk-z-yE/AAAAAAAAAAI/AAAAAAAAG1E/mYhn6dGCREE/s50-c-k-no/photo.jpg",
      "userId": "101730770536033454142"
     },
     "user_tz": -60
    },
    "id": "OWJxXDk0sPY7",
    "outputId": "8a7c16bb-500a-4d64-dd04-6dcd04c107ea"
   },
   "outputs": [],
   "source": [
    "# noqa\n",
    "import os\n",
    "COLAB = 'DATALAB_DEBUG' in os.environ\n",
    "if COLAB:\n",
    "    %cd /content\n",
    "    ROOT_DIR = '/content'\n",
    "    REPO_DIR = os.path.join(ROOT_DIR, 'ml_project_template')\n",
    "    LOG_DIR = os.path.join(REPO_DIR, 'data_out')\n",
    "\n",
    "    if not os.path.isdir(REPO_DIR):\n",
    "        !git clone https://github.com/oskopek/ml_project_template.git\n",
    "    if not os.path.isdir(LOG_DIR):\n",
    "        os.makedirs(LOG_DIR)\n",
    "    %cd 'ml_project_template'\n",
    "    !git pull\n",
    "    %ls\n",
    "else:\n",
    "    wd = %pwd\n",
    "    print('Current directory:', wd)\n",
    "    if wd.endswith('notebooks'):\n",
    "        %cd .."
   ]
  },
  {
   "cell_type": "markdown",
   "metadata": {
    "colab_type": "text",
    "id": "zQbS6L9Gwo3m"
   },
   "source": [
    "### Install missing packages\n",
    "\n",
    "Do not want to do `pip install -r requirements.txt` because that will overwrite the versions on Colab"
   ]
  },
  {
   "cell_type": "code",
   "execution_count": null,
   "metadata": {
    "colab": {
     "autoexec": {
      "startup": false,
      "wait_interval": 0
     },
     "base_uri": "https://localhost:8080/",
     "height": 124,
     "output_extras": [
      {
       "item_id": 2
      }
     ]
    },
    "colab_type": "code",
    "executionInfo": {
     "elapsed": 2085,
     "status": "ok",
     "timestamp": 1521028384225,
     "user": {
      "displayName": "Lukas Jendele",
      "photoUrl": "//lh6.googleusercontent.com/-1bcOrk-z-yE/AAAAAAAAAAI/AAAAAAAAG1E/mYhn6dGCREE/s50-c-k-no/photo.jpg",
      "userId": "101730770536033454142"
     },
     "user_tz": -60
    },
    "id": "_kLthw9hwoGU",
    "outputId": "e110c22d-6e32-4a57-a600-0d9461849503"
   },
   "outputs": [],
   "source": [
    "# noqa\n",
    "if COLAB:\n",
    "    !pip install dotmap==1.2.20 keras==2.1.4"
   ]
  },
  {
   "cell_type": "markdown",
   "metadata": {
    "colab_type": "text",
    "id": "ll72CJURwdgX"
   },
   "source": [
    "### Branch selection"
   ]
  },
  {
   "cell_type": "code",
   "execution_count": null,
   "metadata": {
    "colab": {
     "autoexec": {
      "startup": false,
      "wait_interval": 0
     },
     "base_uri": "https://localhost:8080/",
     "height": 53,
     "output_extras": [
      {
       "item_id": 1
      }
     ]
    },
    "colab_type": "code",
    "executionInfo": {
     "elapsed": 687,
     "status": "ok",
     "timestamp": 1521028385031,
     "user": {
      "displayName": "Lukas Jendele",
      "photoUrl": "//lh6.googleusercontent.com/-1bcOrk-z-yE/AAAAAAAAAAI/AAAAAAAAG1E/mYhn6dGCREE/s50-c-k-no/photo.jpg",
      "userId": "101730770536033454142"
     },
     "user_tz": -60
    },
    "id": "QSaOfz51tgq0",
    "outputId": "0a7aa885-103e-4635-a507-6a4d919b94d8"
   },
   "outputs": [],
   "source": [
    "# noqa\n",
    "if COLAB:\n",
    "    !git checkout master"
   ]
  },
  {
   "cell_type": "markdown",
   "metadata": {
    "colab_type": "text",
    "id": "ldJXLaOZwzu_"
   },
   "source": [
    "### Tensorboard setup"
   ]
  },
  {
   "cell_type": "code",
   "execution_count": null,
   "metadata": {
    "colab": {
     "autoexec": {
      "startup": false,
      "wait_interval": 0
     },
     "base_uri": "https://localhost:8080/",
     "height": 70,
     "output_extras": [
      {
       "item_id": 3
      }
     ]
    },
    "colab_type": "code",
    "executionInfo": {
     "elapsed": 4219,
     "status": "ok",
     "timestamp": 1521028389317,
     "user": {
      "displayName": "Lukas Jendele",
      "photoUrl": "//lh6.googleusercontent.com/-1bcOrk-z-yE/AAAAAAAAAAI/AAAAAAAAG1E/mYhn6dGCREE/s50-c-k-no/photo.jpg",
      "userId": "101730770536033454142"
     },
     "user_tz": -60
    },
    "id": "VreinDV9u-Dm",
    "outputId": "e94f356a-5df1-47ec-f547-171f0319999e"
   },
   "outputs": [],
   "source": [
    "if COLAB:\n",
    "    import os\n",
    "    import resources.colab_utils.tboard as tboard\n",
    "\n",
    "    # will install `ngrok`, if necessary\n",
    "    # will create `log_dir` if path does not exist\n",
    "    tboard.launch_tensorboard(bin_dir=REPO_DIR, log_dir=LOG_DIR)"
   ]
  },
  {
   "cell_type": "markdown",
   "metadata": {
    "colab_type": "text",
    "id": "SXGsKiv1vPpk"
   },
   "source": [
    "## Actual notebook"
   ]
  },
  {
   "cell_type": "code",
   "execution_count": null,
   "metadata": {
    "colab": {
     "autoexec": {
      "startup": false,
      "wait_interval": 0
     },
     "base_uri": "https://localhost:8080/",
     "height": 35,
     "output_extras": [
      {
       "item_id": 1
      }
     ]
    },
    "colab_type": "code",
    "executionInfo": {
     "elapsed": 1518,
     "status": "ok",
     "timestamp": 1521028390874,
     "user": {
      "displayName": "Lukas Jendele",
      "photoUrl": "//lh6.googleusercontent.com/-1bcOrk-z-yE/AAAAAAAAAAI/AAAAAAAAG1E/mYhn6dGCREE/s50-c-k-no/photo.jpg",
      "userId": "101730770536033454142"
     },
     "user_tz": -60
    },
    "id": "HH88JMfnr_mI",
    "outputId": "36a3143f-0ea0-4d8d-f0d0-86c66f5f495a"
   },
   "outputs": [],
   "source": [
    "import numpy as np\n",
    "import tensorflow as tf\n",
    "import tensorflow.contrib.summary as tf_summary\n",
    "\n",
    "from models.base import BaseModel\n",
    "from resources.data_utils import next_batch, read_mnist\n",
    "from resources.model_utils import noise, tile_images\n",
    "\n",
    "# Flags\n",
    "from flags import flags_parser\n",
    "flags_parser.parse('flags/gan.json', None)\n",
    "FLAGS = flags_parser.FLAGS\n",
    "assert FLAGS is not None"
   ]
  },
  {
   "cell_type": "code",
   "execution_count": null,
   "metadata": {
    "colab": {
     "autoexec": {
      "startup": false,
      "wait_interval": 0
     }
    },
    "colab_type": "code",
    "id": "yjXLPPtMr_mP"
   },
   "outputs": [],
   "source": [
    "# Discriminator\n",
    "def discriminator(X, reuse):\n",
    "    with tf.variable_scope(\"Discriminator\", reuse=reuse):\n",
    "        # Layer 1\n",
    "        dx = tf.layers.dense(\n",
    "            X,\n",
    "            units=1024,\n",
    "            kernel_initializer=tf.random_normal_initializer(stddev=0.02),\n",
    "            activation=tf.nn.relu,\n",
    "            name='fc1')\n",
    "        # Layer 2\n",
    "        # dx = tf.layers.dense(dx, units=512, activation=tf.nn.relu, name='fc2')\n",
    "        # Layer 3\n",
    "        # dx = tf.layers.dense(dx, units=256, activation=tf.nn.relu, name='fc3')\n",
    "        # Layer 4\n",
    "        d_out = tf.layers.dense(\n",
    "            dx, units=1, kernel_initializer=tf.random_normal_initializer(stddev=0.02), name='fc_out')\n",
    "        return d_out"
   ]
  },
  {
   "cell_type": "code",
   "execution_count": null,
   "metadata": {
    "colab": {
     "autoexec": {
      "startup": false,
      "wait_interval": 0
     }
    },
    "colab_type": "code",
    "id": "0dOjMcNBr_mR"
   },
   "outputs": [],
   "source": [
    "# Generator\n",
    "def generator(X, reuse=False):\n",
    "    with tf.variable_scope('Generator', reuse=reuse):\n",
    "        # Layer 1\n",
    "        gx = tf.layers.dense(X, units=128, activation=tf.nn.relu, name='fc1')\n",
    "        # Layer 2\n",
    "        # gx = tf.layers.dense(gx, units=512, activation=tf.nn.relu, name='fc2')\n",
    "        # Layer 3\n",
    "        # gx = tf.layers.dense(gx, units=1024, activation=tf.nn.relu, name='fc3')\n",
    "        # Layer 4\n",
    "        g_out = tf.layers.dense(gx, units=784, activation=tf.nn.sigmoid, name='fc_out')\n",
    "        return g_out"
   ]
  },
  {
   "cell_type": "code",
   "execution_count": null,
   "metadata": {
    "colab": {
     "autoexec": {
      "startup": false,
      "wait_interval": 0
     }
    },
    "colab_type": "code",
    "id": "VzmIs1mbiUO0"
   },
   "outputs": [],
   "source": [
    "# Shortcut for cross-entropy loss calculation.\n",
    "def cross_entropy_loss(logits=None, labels=None):\n",
    "    #return tf.reduce_mean(tf.nn.sigmoid_cross_entropy_with_logits(logits=logits, labels=labels))\n",
    "    return tf.reduce_mean(logits)"
   ]
  },
  {
   "cell_type": "code",
   "execution_count": null,
   "metadata": {
    "colab": {
     "autoexec": {
      "startup": false,
      "wait_interval": 0
     }
    },
    "colab_type": "code",
    "id": "z8YDcDH0r_mW"
   },
   "outputs": [],
   "source": [
    "# Model\n",
    "class MnistGan(BaseModel):\n",
    "    # Setup constants\n",
    "    IMAGE_SIZE = 28\n",
    "    IMAGE_PIXELS = IMAGE_SIZE * IMAGE_SIZE\n",
    "    NOISE_SIZE = 100\n",
    "\n",
    "    def __init__(self):\n",
    "        super(MnistGan, self).__init__(\n",
    "            logdir_name=FLAGS.data.out_dir,\n",
    "            checkpoint_dirname=FLAGS.training.checkpoint_dir,\n",
    "            expname=\"MNIST-GAN\",\n",
    "            threads=FLAGS.training.threads,\n",
    "            seed=FLAGS.training.seed)\n",
    "        with self.session.graph.as_default():\n",
    "            self._build()\n",
    "            self._init_variables()\n",
    "\n",
    "    # Construct the graph\n",
    "    def _build(self):\n",
    "        self.d_step = tf.Variable(0, dtype=tf.int64, trainable=False, name=\"d_step\")\n",
    "        self.g_step = tf.Variable(0, dtype=tf.int64, trainable=False, name=\"g_step\")\n",
    "\n",
    "        self.images_input = tf.placeholder(tf.float32, shape=(None, self.IMAGE_PIXELS))\n",
    "        self.noise_input = tf.placeholder(tf.float32, shape=(None, self.NOISE_SIZE))\n",
    "        self.noise_input_interpolated = tf.placeholder(tf.float32, shape=(None, self.NOISE_SIZE))\n",
    "\n",
    "        # Losses\n",
    "        g_sample = generator(self.noise_input)\n",
    "        print(\"images_input\", self.images_input.get_shape())\n",
    "        d_real = discriminator(self.images_input, reuse=False)\n",
    "        print(\"g_sample\", self.images_input.get_shape())\n",
    "        d_fake = discriminator(g_sample, reuse=True)\n",
    "\n",
    "        d_loss_real = cross_entropy_loss(logits=d_real, labels=tf.ones_like(d_real))\n",
    "        d_loss_fake = cross_entropy_loss(logits=d_fake, labels=tf.zeros_like(d_fake))\n",
    "        self.d_loss = -d_loss_real + d_loss_fake\n",
    "        self.g_loss = -d_loss_fake  #cross_entropy_loss(logits=d_fake, labels=tf.ones_like(d_fake))\n",
    "\n",
    "        # Gradient penalty (WGAN-GP)\n",
    "        # BATCH_SIZE = FLAGS.model.optimization.batch_size\n",
    "        # alpha = tf.random_uniform(shape=[BATCH_SIZE,1], minval=0., maxval=1.)\n",
    "        # differences = g_sample - self.images_input\n",
    "        # interpolates = self.images_input + (alpha*differences)\n",
    "        # gradients = tf.gradients(discriminator(interpolates, reuse=True), [interpolates])[0]\n",
    "        # slopes = tf.sqrt(tf.reduce_sum(tf.square(gradients), reduction_indices=[1]))\n",
    "        # gradient_penalty = tf.reduce_mean((slopes-1.)**2)\n",
    "        # LAMBDA = 10\n",
    "        # self.d_loss += LAMBDA*gradient_penalty\n",
    "\n",
    "        # Test summaries\n",
    "        tiled_image_random = tile_images(g_sample, 6, 6, self.IMAGE_SIZE, self.IMAGE_SIZE)\n",
    "        tiled_image_interpolated = tile_images(\n",
    "            generator(self.noise_input_interpolated, reuse=True), 6, 6, self.IMAGE_SIZE, self.IMAGE_SIZE)\n",
    "        with self.summary_writer.as_default(), tf_summary.always_record_summaries():\n",
    "            gen_image_summary_op = tf_summary.image(\n",
    "                'generated_images', tiled_image_random, max_images=1, step=self.g_step)\n",
    "            gen_image_summary_interpolated_op = tf_summary.image(\n",
    "                'generated_images_interpolated', tiled_image_interpolated, max_images=1, step=self.g_step)\n",
    "            self.IMAGE_SUMMARIES = [gen_image_summary_op, gen_image_summary_interpolated_op]\n",
    "\n",
    "        # Optimizers\n",
    "        t_vars = tf.trainable_variables()\n",
    "        LEARNING_RATE = FLAGS.model.optimization.learning_rate\n",
    "        LEARNING_RATE = 1e-4\n",
    "        self.clip_D = [p.assign(tf.clip_by_value(p, -0.01, 0.01)) for p in t_vars if 'Discriminator' in p.name]\n",
    "        self.d_opt = tf.train.AdamOptimizer(\n",
    "            LEARNING_RATE, beta1=0.5, beta2=0.9).minimize(\n",
    "                self.d_loss, var_list=[var for var in t_vars if 'Discriminator' in var.name], global_step=self.d_step)\n",
    "        self.g_opt = tf.train.AdamOptimizer(\n",
    "            LEARNING_RATE, beta1=0.5, beta2=0.9).minimize(\n",
    "                self.g_loss, var_list=[var for var in t_vars if 'Generator' in var.name], global_step=self.g_step)\n",
    "\n",
    "        # saver = tf.train.Saver(max_to_keep=1) # TODO(jendelel): Set up saver.\n",
    "\n",
    "    def train_batch(self, batch):\n",
    "        BATCH_SIZE = FLAGS.model.optimization.batch_size\n",
    "\n",
    "        # 1. Train Discriminator\n",
    "        for i in range(5):\n",
    "            batch_noise = noise((BATCH_SIZE, self.NOISE_SIZE))\n",
    "            feed_dict = {self.images_input: batch, self.noise_input: batch_noise}\n",
    "            d_error, _, _ = self.session.run([self.d_loss, self.d_opt, self.clip_D], feed_dict=feed_dict)\n",
    "\n",
    "        # 2. Train Generator\n",
    "        for i in range(1):\n",
    "            feed_dict = {self.noise_input: batch_noise}\n",
    "            g_error, _ = self.session.run([self.g_loss, self.g_opt], feed_dict=feed_dict)\n",
    "\n",
    "        return d_error, g_error\n",
    "\n",
    "    # Generate images from test noise\n",
    "    def test_eval(self, noise_input, noise_input_interpolated):\n",
    "        self.session.run(\n",
    "            self.IMAGE_SUMMARIES,\n",
    "            feed_dict={\n",
    "                self.noise_input: noise_input,\n",
    "                self.noise_input_interpolated: noise_input_interpolated\n",
    "            })\n",
    "\n",
    "    def run(self):\n",
    "        BATCH_SIZE = FLAGS.model.optimization.batch_size\n",
    "        train_X, train_Y = read_mnist(FLAGS.data.in_dir, no_gpu=FLAGS.training.no_gpu)\n",
    "\n",
    "        test_noise_random = noise(size=(FLAGS.eval.num_test_samples, self.NOISE_SIZE), dist='uniform')\n",
    "        test_noise_interpolated = noise(size=(FLAGS.eval.num_test_samples, self.NOISE_SIZE), dist='linspace')\n",
    "\n",
    "        # Iterate through epochs\n",
    "        for epoch in range(FLAGS.model.optimization.epochs):\n",
    "            print(\"Epoch %d\" % epoch, flush=True)\n",
    "            for n_batch, batch in enumerate(next_batch(train_X, BATCH_SIZE)):\n",
    "                if len(batch) != 100:\n",
    "                    print(\"Batch size: \", len(batch))\n",
    "                d_error, g_error = self.train_batch(batch)\n",
    "\n",
    "                # Test noise\n",
    "                if n_batch % FLAGS.training.log_interval == 0:\n",
    "                    self.test_eval(test_noise_random, test_noise_interpolated)\n",
    "                    print(\n",
    "                        \"Epoch: {}, Batch: {}, D_Loss: {}, G_Loss: {}\".format(epoch, n_batch, d_error, g_error),\n",
    "                        flush=True)\n",
    "\n",
    "            if epoch % FLAGS.training.save_interval == 0:\n",
    "                self.saver.save(self.session, os.path.join(self.logdir, FLAGS.training.checkpoint_dir, \"model.ckpt\"))\n"
   ]
  },
  {
   "cell_type": "code",
   "execution_count": null,
   "metadata": {
    "colab": {
     "autoexec": {
      "startup": false,
      "wait_interval": 0
     },
     "base_uri": "https://localhost:8080/",
     "height": 10844,
     "output_extras": [
      {
       "item_id": 57
      },
      {
       "item_id": 108
      },
      {
       "item_id": 154
      },
      {
       "item_id": 198
      },
      {
       "item_id": 255
      },
      {
       "item_id": 310
      },
      {
       "item_id": 360
      },
      {
       "item_id": 401
      },
      {
       "item_id": 445
      },
      {
       "item_id": 487
      },
      {
       "item_id": 503
      }
     ]
    },
    "colab_type": "code",
    "executionInfo": {
     "elapsed": 2559387,
     "status": "ok",
     "timestamp": 1521030954771,
     "user": {
      "displayName": "Lukas Jendele",
      "photoUrl": "//lh6.googleusercontent.com/-1bcOrk-z-yE/AAAAAAAAAAI/AAAAAAAAG1E/mYhn6dGCREE/s50-c-k-no/photo.jpg",
      "userId": "101730770536033454142"
     },
     "user_tz": -60
    },
    "id": "vHe0Nygcr_mY",
    "outputId": "673e23ce-bfa3-4d18-d69d-19eaae1f485e"
   },
   "outputs": [],
   "source": [
    "# Run\n",
    "MnistGan().run()"
   ]
  }
 ],
 "metadata": {
  "accelerator": "GPU",
  "colab": {
   "collapsed_sections": [],
   "default_view": {},
   "name": "mnist_gan_graph.ipynb",
   "provenance": [],
   "version": "0.3.2",
   "views": {}
  },
  "kernelspec": {
   "display_name": "Python 3",
   "language": "python",
   "name": "python3"
  }
 },
 "nbformat": 4,
 "nbformat_minor": 0
}
