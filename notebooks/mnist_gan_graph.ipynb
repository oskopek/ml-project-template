{
 "cells": [
  {
   "cell_type": "code",
   "execution_count": null,
   "metadata": {
    "colab": {
     "autoexec": {
      "startup": false,
      "wait_interval": 0
     }
    },
    "colab_type": "code",
    "id": "c4FDzOsaw6_P"
   },
   "outputs": [],
   "source": [
    "COLAB = False"
   ]
  },
  {
   "cell_type": "markdown",
   "metadata": {
    "colab_type": "text",
    "id": "1fc0svhAvL2E"
   },
   "source": [
    "### Path setup"
   ]
  },
  {
   "cell_type": "code",
   "execution_count": null,
   "metadata": {
    "colab": {
     "autoexec": {
      "startup": false,
      "wait_interval": 0
     },
     "base_uri": "https://localhost:8080/",
     "height": 85,
     "output_extras": [
      {
       "item_id": 1
      }
     ]
    },
    "colab_type": "code",
    "executionInfo": {
     "elapsed": 765,
     "status": "ok",
     "timestamp": 1520212837341,
     "user": {
      "displayName": "Ondrej Skopek",
      "photoUrl": "//lh6.googleusercontent.com/-WGkwqACs-x0/AAAAAAAAAAI/AAAAAAAACk8/KLm0zyt0xu0/s50-c-k-no/photo.jpg",
      "userId": "110435012592377289802"
     },
     "user_tz": -60
    },
    "id": "OWJxXDk0sPY7",
    "outputId": "231714fe-e5e3-4d10-f2a9-f767c4dfc83b"
   },
   "outputs": [],
   "source": [
    "import os\n",
    "if COLAB:\n",
    "    %cd /content\n",
    "    ROOT_DIR = '/content'\n",
    "    REPO_DIR = os.path.join(ROOT_DIR, 'ml_project_template')\n",
    "    LOG_DIR = os.path.join(REPO_DIR, 'data_out')\n",
    "\n",
    "    if not os.path.isdir(REPO_DIR):\n",
    "      !git clone https://github.com/oskopek/ml_project_template.git\n",
    "    if not os.path.isdir(LOG_DIR):\n",
    "      os.makedirs(LOG_DIR)\n",
    "    %cd 'ml_project_template'\n",
    "    %ls\n",
    "else:\n",
    "    wd = %pwd\n",
    "    print('Current directory:', wd)\n",
    "    if wd.endswith('notebooks'):\n",
    "        %cd .."
   ]
  },
  {
   "cell_type": "markdown",
   "metadata": {
    "colab_type": "text",
    "id": "zQbS6L9Gwo3m"
   },
   "source": [
    "### Install missing packages\n",
    "\n",
    "Do not want to do `pip install -r requirements.txt` because that will overwrite the versions on Colab"
   ]
  },
  {
   "cell_type": "code",
   "execution_count": null,
   "metadata": {
    "colab": {
     "autoexec": {
      "startup": false,
      "wait_interval": 0
     }
    },
    "colab_type": "code",
    "id": "_kLthw9hwoGU"
   },
   "outputs": [],
   "source": [
    "if COLAB:\n",
    "    !pip install dotmap==1.2.20"
   ]
  },
  {
   "cell_type": "markdown",
   "metadata": {
    "colab_type": "text",
    "id": "ll72CJURwdgX"
   },
   "source": [
    "### Branch selection"
   ]
  },
  {
   "cell_type": "code",
   "execution_count": null,
   "metadata": {
    "colab": {
     "autoexec": {
      "startup": false,
      "wait_interval": 0
     },
     "base_uri": "https://localhost:8080/",
     "height": 51,
     "output_extras": [
      {
       "item_id": 1
      }
     ]
    },
    "colab_type": "code",
    "executionInfo": {
     "elapsed": 764,
     "status": "ok",
     "timestamp": 1520212841227,
     "user": {
      "displayName": "Ondrej Skopek",
      "photoUrl": "//lh6.googleusercontent.com/-WGkwqACs-x0/AAAAAAAAAAI/AAAAAAAACk8/KLm0zyt0xu0/s50-c-k-no/photo.jpg",
      "userId": "110435012592377289802"
     },
     "user_tz": -60
    },
    "id": "QSaOfz51tgq0",
    "outputId": "52ad7b1d-55fe-452e-8b0c-1a0c10d064a1"
   },
   "outputs": [],
   "source": [
    "if COLAB:\n",
    "    !git checkout infra_setup"
   ]
  },
  {
   "cell_type": "markdown",
   "metadata": {
    "colab_type": "text",
    "id": "ldJXLaOZwzu_"
   },
   "source": [
    "### Tensorboard setup"
   ]
  },
  {
   "cell_type": "code",
   "execution_count": null,
   "metadata": {
    "colab": {
     "autoexec": {
      "startup": false,
      "wait_interval": 0
     },
     "base_uri": "https://localhost:8080/",
     "height": 85,
     "output_extras": [
      {
       "item_id": 3
      },
      {
       "item_id": 4
      }
     ]
    },
    "colab_type": "code",
    "executionInfo": {
     "elapsed": 3658,
     "status": "ok",
     "timestamp": 1520212899593,
     "user": {
      "displayName": "Ondrej Skopek",
      "photoUrl": "//lh6.googleusercontent.com/-WGkwqACs-x0/AAAAAAAAAAI/AAAAAAAACk8/KLm0zyt0xu0/s50-c-k-no/photo.jpg",
      "userId": "110435012592377289802"
     },
     "user_tz": -60
    },
    "id": "VreinDV9u-Dm",
    "outputId": "a4a3912f-8808-4903-d8cd-fb219c85d938"
   },
   "outputs": [],
   "source": [
    "if COLAB:\n",
    "    import os\n",
    "    import resources.colab_utils.tboard as tboard\n",
    "\n",
    "    # will install `ngrok`, if necessary\n",
    "    # will create `log_dir` if path does not exist\n",
    "    tboard.launch_tensorboard(bin_dir=REPO_DIR, log_dir=LOG_DIR)"
   ]
  },
  {
   "cell_type": "markdown",
   "metadata": {
    "colab_type": "text",
    "id": "SXGsKiv1vPpk"
   },
   "source": [
    "## Actual notebook"
   ]
  },
  {
   "cell_type": "code",
   "execution_count": null,
   "metadata": {
    "colab": {
     "autoexec": {
      "startup": false,
      "wait_interval": 0
     }
    },
    "colab_type": "code",
    "id": "HH88JMfnr_mI"
   },
   "outputs": [],
   "source": [
    "import numpy as np\n",
    "import tensorflow as tf\n",
    "import tensorflow.contrib.summary as tf_summary\n",
    "\n",
    "from models.base import BaseModel\n",
    "from resources.data_utils import next_batch, read_mnist\n",
    "from resources.model_utils import noise, tile_images\n",
    "\n",
    "# Flags\n",
    "from flags import flags_parser\n",
    "flags_parser.parse('flags/gan.json', None)\n",
    "FLAGS = flags_parser.FLAGS\n",
    "assert FLAGS is not None"
   ]
  },
  {
   "cell_type": "code",
   "execution_count": null,
   "metadata": {
    "colab": {
     "autoexec": {
      "startup": false,
      "wait_interval": 0
     }
    },
    "colab_type": "code",
    "id": "yjXLPPtMr_mP"
   },
   "outputs": [],
   "source": [
    "# Discriminator\n",
    "def discriminator(X, reuse):\n",
    "    with tf.variable_scope(\"Discriminator\", reuse=reuse):\n",
    "        # Layer 1\n",
    "        dx = tf.layers.dense(X, units=1024, kernel_initializer=tf.random_normal_initializer(stddev=0.02),\n",
    "                             activation=tf.nn.relu, name='fc1')\n",
    "        # Layer 2\n",
    "        # dx = tf.layers.dense(dx, units=512, activation=tf.nn.relu, name='fc2')\n",
    "        # Layer 3\n",
    "        # dx = tf.layers.dense(dx, units=256, activation=tf.nn.relu, name='fc3')\n",
    "        # Layer 4\n",
    "        d_out = tf.layers.dense(dx, units=1, kernel_initializer=tf.random_normal_initializer(stddev=0.02), name='fc_out')\n",
    "        return d_out"
   ]
  },
  {
   "cell_type": "code",
   "execution_count": null,
   "metadata": {
    "colab": {
     "autoexec": {
      "startup": false,
      "wait_interval": 0
     }
    },
    "colab_type": "code",
    "id": "0dOjMcNBr_mR"
   },
   "outputs": [],
   "source": [
    "# Generator\n",
    "def generator(X, reuse=False):\n",
    "    with tf.variable_scope('Generator', reuse=reuse):\n",
    "        # Layer 1\n",
    "        gx = tf.layers.dense(X, units=128, activation=tf.nn.relu, name='fc1')\n",
    "        # Layer 2\n",
    "        # gx = tf.layers.dense(gx, units=512, activation=tf.nn.relu, name='fc2')\n",
    "        # Layer 3\n",
    "        # gx = tf.layers.dense(gx, units=1024, activation=tf.nn.relu, name='fc3')\n",
    "        # Layer 4\n",
    "        g_out = tf.layers.dense(gx, units=784, activation=tf.nn.sigmoid, name='fc_out')\n",
    "        return g_out"
   ]
  },
  {
   "cell_type": "code",
   "execution_count": null,
   "metadata": {},
   "outputs": [],
   "source": [
    "# Shortcut for cross-entropy loss calculation.\n",
    "def cross_entropy_loss(logits=None, labels=None):\n",
    "    return tf.reduce_mean(tf.nn.sigmoid_cross_entropy_with_logits(logits=logits, labels=labels))"
   ]
  },
  {
   "cell_type": "code",
   "execution_count": null,
   "metadata": {
    "colab": {
     "autoexec": {
      "startup": false,
      "wait_interval": 0
     }
    },
    "colab_type": "code",
    "id": "z8YDcDH0r_mW"
   },
   "outputs": [],
   "source": [
    "# Model\n",
    "class MnistGan(BaseModel):\n",
    "    # Setup constants\n",
    "    IMAGE_SIZE = 28\n",
    "    IMAGE_PIXELS = IMAGE_SIZE * IMAGE_SIZE\n",
    "    NOISE_SIZE = 100\n",
    "\n",
    "    def __init__(self):\n",
    "        super(MnistGan, self).__init__(\n",
    "            logdir=FLAGS.data.out_dir, expname=\"MNIST-GAN\", threads=FLAGS.training.threads, seed=FLAGS.training.seed)\n",
    "        with self.session.graph.as_default():\n",
    "            self._build()\n",
    "            self._init_variables()\n",
    "\n",
    "    # Construct the graph\n",
    "    def _build(self):\n",
    "        self.d_step = tf.Variable(0, dtype=tf.int64, trainable=False, name=\"d_step\")\n",
    "        self.g_step = tf.Variable(0, dtype=tf.int64, trainable=False, name=\"g_step\")\n",
    "\n",
    "        self.images_input = tf.placeholder(tf.float32, shape=(None, self.IMAGE_PIXELS))\n",
    "        self.noise_input = tf.placeholder(tf.float32, shape=(None, self.NOISE_SIZE))\n",
    "        self.noise_input_interpolated = tf.placeholder(tf.float32, shape=(None, self.NOISE_SIZE))\n",
    "\n",
    "        # Losses\n",
    "        g_sample = generator(self.noise_input)\n",
    "        d_real = discriminator(self.images_input, reuse=False)\n",
    "        d_fake = discriminator(g_sample, reuse=True)\n",
    "\n",
    "        d_loss_real = cross_entropy_loss(logits=d_real, labels=tf.ones_like(d_real))\n",
    "        d_loss_fake = cross_entropy_loss(logits=d_fake, labels=tf.zeros_like(d_fake))\n",
    "        self.d_loss = d_loss_real + d_loss_fake\n",
    "        self.g_loss = cross_entropy_loss(logits=d_fake, labels=tf.ones_like(d_fake))\n",
    "\n",
    "        # Test summaries\n",
    "        tiled_image_random = tile_images(g_sample, 6, 6, self.IMAGE_SIZE, self.IMAGE_SIZE)\n",
    "        tiled_image_interpolated = tile_images(\n",
    "            generator(self.noise_input_interpolated, reuse=True), 6, 6, self.IMAGE_SIZE, self.IMAGE_SIZE)\n",
    "        with self.summary_writer.as_default(), tf_summary.always_record_summaries():\n",
    "            gen_image_summary_op = tf_summary.image(\n",
    "                'generated_images', tiled_image_random, max_images=1, step=self.g_step)\n",
    "            gen_image_summary_interpolated_op = tf_summary.image(\n",
    "                'generated_images_interpolated', tiled_image_interpolated, max_images=1, step=self.g_step)\n",
    "            self.IMAGE_SUMMARIES = [gen_image_summary_op, gen_image_summary_interpolated_op]\n",
    "\n",
    "        # Optimizers\n",
    "        t_vars = tf.trainable_variables()\n",
    "        LEARNING_RATE = FLAGS.model.optimization.learning_rate\n",
    "        self.d_opt = tf.train.AdamOptimizer(LEARNING_RATE).minimize(\n",
    "            self.d_loss, var_list=[var for var in t_vars if 'Discriminator' in var.name], global_step=self.d_step)\n",
    "        self.g_opt = tf.train.AdamOptimizer(LEARNING_RATE).minimize(\n",
    "            self.g_loss, var_list=[var for var in t_vars if 'Generator' in var.name], global_step=self.g_step)\n",
    "\n",
    "        # saver = tf.train.Saver(max_to_keep=1) # TODO(jendelel): Set up saver.\n",
    "\n",
    "    def train_batch(self, batch):\n",
    "        BATCH_SIZE = FLAGS.model.optimization.batch_size\n",
    "\n",
    "        # 1. Train Discriminator\n",
    "        batch_noise = noise((BATCH_SIZE, self.NOISE_SIZE))\n",
    "        feed_dict = {self.images_input: batch, self.noise_input: batch_noise}\n",
    "        d_error, _ = self.session.run([self.d_loss, self.d_opt], feed_dict=feed_dict)\n",
    "\n",
    "        # 2. Train Generator\n",
    "        feed_dict = {self.noise_input: batch_noise}\n",
    "        g_error, _ = self.session.run([self.g_loss, self.g_opt], feed_dict=feed_dict)\n",
    "\n",
    "        return d_error, g_error\n",
    "\n",
    "    # Generate images from test noise\n",
    "    def test_eval(self, noise_input, noise_input_interpolated):\n",
    "        self.session.run(\n",
    "            self.IMAGE_SUMMARIES,\n",
    "            feed_dict={\n",
    "                self.noise_input: noise_input,\n",
    "                self.noise_input_interpolated: noise_input_interpolated\n",
    "            })\n",
    "\n",
    "    def run(self):\n",
    "        BATCH_SIZE = FLAGS.model.optimization.batch_size\n",
    "        train_X, train_Y = read_mnist(FLAGS.data.in_dir, no_gpu=FLAGS.training.no_gpu)\n",
    "\n",
    "        test_noise_random = noise(size=(FLAGS.eval.num_test_samples, self.NOISE_SIZE), dist='uniform')\n",
    "        test_noise_interpolated = noise(size=(FLAGS.eval.num_test_samples, self.NOISE_SIZE), dist='linspace')\n",
    "\n",
    "        # Iterate through epochs\n",
    "        for epoch in range(FLAGS.model.optimization.epochs):\n",
    "            print(\"Epoch %d\" % epoch, flush=True)\n",
    "            for n_batch, batch in enumerate(next_batch(train_X, BATCH_SIZE)):\n",
    "                d_error, g_error = self.train_batch(batch)\n",
    "\n",
    "                # Test noise\n",
    "                if n_batch % FLAGS.training.log_interval == 0:\n",
    "                    self.test_eval(test_noise_random, test_noise_interpolated)\n",
    "                    print(\n",
    "                        \"Epoch: {}, Batch: {}, D_Loss: {}, G_Loss: {}\".format(epoch, n_batch, d_error, g_error),\n",
    "                        flush=True)"
   ]
  },
  {
   "cell_type": "code",
   "execution_count": null,
   "metadata": {
    "colab": {
     "autoexec": {
      "startup": false,
      "wait_interval": 0
     },
     "base_uri": "https://localhost:8080/",
     "height": 5950,
     "output_extras": [
      {
       "item_id": 37
      },
      {
       "item_id": 86
      },
      {
       "item_id": 131
      },
      {
       "item_id": 169
      },
      {
       "item_id": 205
      }
     ]
    },
    "colab_type": "code",
    "id": "vHe0Nygcr_mY",
    "outputId": "22c536e5-c28b-493a-a7dd-4461299960cf"
   },
   "outputs": [],
   "source": [
    "# Run\n",
    "MnistGan().run()"
   ]
  }
 ],
 "metadata": {
  "accelerator": "GPU",
  "colab": {
   "collapsed_sections": [],
   "default_view": {},
   "name": "mnist_gan_graph.ipynb",
   "provenance": [],
   "version": "0.3.2",
   "views": {}
  },
  "kernelspec": {
   "display_name": "Python 3",
   "language": "python",
   "name": "python3"
  },
  "language_info": {
   "codemirror_mode": {
    "name": "ipython",
    "version": 3
   },
   "file_extension": ".py",
   "mimetype": "text/x-python",
   "name": "python",
   "nbconvert_exporter": "python",
   "pygments_lexer": "ipython3",
   "version": "3.6.4"
  }
 },
 "nbformat": 4,
 "nbformat_minor": 1
}
