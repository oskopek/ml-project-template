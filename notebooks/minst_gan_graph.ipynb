{
 "cells": [
  {
   "cell_type": "code",
   "execution_count": null,
   "metadata": {},
   "outputs": [],
   "source": [
    "wd = %pwd\n",
    "print('Current directory:', wd)\n",
    "if wd.endswith('models'):\n",
    "    %cd .."
   ]
  },
  {
   "cell_type": "code",
   "execution_count": null,
   "metadata": {},
   "outputs": [],
   "source": [
    "%load_ext autoreload\n",
    "%autoreload 2\n",
    "\n",
    "import tensorflow as tf\n",
    "import numpy as np\n",
    "import sys, os, time, datetime\n",
    "\n",
    "from models.base import BaseModel\n",
    "from resources.flags import FLAGS, define_flags"
   ]
  },
  {
   "cell_type": "code",
   "execution_count": null,
   "metadata": {},
   "outputs": [],
   "source": [
    "# This can only be run once.\n",
    "define_flags()"
   ]
  },
  {
   "cell_type": "code",
   "execution_count": null,
   "metadata": {},
   "outputs": [],
   "source": [
    "## Helper functions:\n",
    "# TODO: Move to separate file.\n",
    "\n",
    "def next_batch(arr, batch_size):\n",
    "    num_batches = int(len(arr) / batch_size)\n",
    "    for i in range(0, num_batches * batch_size, batch_size):\n",
    "        yield arr[i:i+batch_size]\n",
    "    yield arr[num_batches*batch_size:]\n",
    "\n",
    "def noise(size, dist='uniform'):\n",
    "    if dist=='uniform':\n",
    "        return np.random.uniform(-1, 1, size=size)\n",
    "    elif dist == 'normal':\n",
    "        return np.random.normal(size=size)\n",
    "    elif dist == 'linspace':\n",
    "        n, dim = np.sqrt(size[0]).astype(np.int32), size[1];\n",
    "        interpolated_noise = []\n",
    "        starts, ends = noise((n, dim)), noise((n, dim))\n",
    "        for i in range(n):\n",
    "            for w in np.linspace(0, 1, n):\n",
    "                interpolated_noise.append(starts[i] + (ends[i] + starts[i]) * w)\n",
    "        return np.asarray(interpolated_noise)\n",
    "    \n",
    "def shuffle(a, b):\n",
    "    # Generate the permutation index array.\n",
    "    permutation = np.random.permutation(a.shape[0])\n",
    "    # Shuffle the arrays by giving the permutation in the square brackets.\n",
    "    return a[permutation], b[permutation]\n",
    "\n",
    "def tile_images(images, num_x, num_y, h, w):\n",
    "    res = tf.zeros((num_y*h, num_x*w))\n",
    "    index = -1\n",
    "    rows = []\n",
    "    for i in range(0, num_y):\n",
    "        row = []\n",
    "        for j in range(0, num_x):\n",
    "            index += 1\n",
    "            row.append(tf.reshape(images[index], (h,w)))\n",
    "        rows.append(tf.concat(row, 1))\n",
    "    res = tf.concat(rows, 0)\n",
    "    print(\"res shape:\", res.shape)\n",
    "    return tf.reshape(res, (1, num_y*h, num_x*w, 1))"
   ]
  },
  {
   "cell_type": "markdown",
   "metadata": {},
   "source": [
    "## Read the input data\n",
    "\n",
    "In this case, MNIST + batch and shuffle it. In our case, it will be quite different."
   ]
  },
  {
   "cell_type": "code",
   "execution_count": null,
   "metadata": {},
   "outputs": [],
   "source": [
    "from tensorflow.examples.tutorials.mnist import input_data\n",
    "\n",
    "# Reset Tensorflow graph and create new session\n",
    "tf.reset_default_graph()\n",
    "session = tf.Session()\n",
    "\n",
    "def load_data(data_dir):\n",
    "    \"\"\"Returns training and test tf.data.Dataset objects.\"\"\"\n",
    "    data = input_data.read_data_sets(data_dir, one_hot=True)\n",
    "    #train_ds = tf.data.Dataset.from_tensor_slices((data.train.images,\n",
    "    #                                               data.train.labels))\n",
    "    #test_ds = tf.data.Dataset.from_tensors(\n",
    "    #   (data.test.images, data.test.labels))\n",
    "    return (data.train, data.test)\n",
    "\n",
    "\n",
    "device, data_format = ('/gpu:0', 'channels_first')\n",
    "if FLAGS.no_gpu:\n",
    "    device, data_format = ('/cpu:0', 'channels_last')\n",
    "print('Using device %s, and data format %s.' % (device, data_format))\n",
    "\n",
    "# Load the datasets\n",
    "train_ds, test_ds = load_data(FLAGS.in_data_dir)\n",
    "#train_ds = train_ds.shuffle(60000).batch(FLAGS.batch_size)\n",
    "train_X, train_Y = shuffle(train_ds.images, train_ds.labels)"
   ]
  },
  {
   "cell_type": "code",
   "execution_count": null,
   "metadata": {},
   "outputs": [],
   "source": [
    "# Setup constatnts\n",
    "IMAGE_PIXELS = 784\n",
    "NOISE_SIZE = 100\n",
    "images_input = tf.placeholder(tf.float32, shape=(None, IMAGE_PIXELS))\n",
    "noise_input = tf.placeholder(tf.float32, shape=(None, NOISE_SIZE))\n",
    "noise_input_interpolated = tf.placeholder(tf.float32, shape=(None, NOISE_SIZE))"
   ]
  },
  {
   "cell_type": "code",
   "execution_count": null,
   "metadata": {},
   "outputs": [],
   "source": [
    "## Discriminator\n",
    "def discriminator(X, reuse):\n",
    "    with tf.variable_scope(\"Discriminator\", reuse=reuse):\n",
    "        # Layer 1\n",
    "        dx = tf.layers.dense(X, units=1024, kernel_initializer=tf.random_normal_initializer(stddev=0.02), activation=tf.nn.relu, name='fc1')\n",
    "        # Layer 2\n",
    "        #dx = tf.layers.dense(dx, units=512, activation=tf.nn.relu, name='fc2')\n",
    "        # Layer 3\n",
    "        #dx = tf.layers.dense(dx, units=256, activation=tf.nn.relu, name='fc3')\n",
    "        # Layer 4\n",
    "        d_out = tf.layers.dense(dx, units=1, kernel_initializer=tf.random_normal_initializer(stddev=0.02), name='fc_out')\n",
    "        return d_out"
   ]
  },
  {
   "cell_type": "code",
   "execution_count": null,
   "metadata": {},
   "outputs": [],
   "source": [
    "## Generator\n",
    "def generator(X, reuse=False):\n",
    "    with tf.variable_scope('Generator', reuse=reuse):\n",
    "        # Layer 1\n",
    "        gx = tf.layers.dense(X, units=128, activation=tf.nn.relu, name='fc1')\n",
    "        # Layer 2\n",
    "        #gx = tf.layers.dense(gx, units=512, activation=tf.nn.relu, name='fc2')\n",
    "        # Layer 3\n",
    "        #gx = tf.layers.dense(gx, units=1024, activation=tf.nn.relu, name='fc3')\n",
    "        # Layer 4\n",
    "        g_out = tf.layers.dense(gx, units=784, activation=tf.nn.sigmoid, name='fc_out')\n",
    "        return g_out"
   ]
  },
  {
   "cell_type": "code",
   "execution_count": null,
   "metadata": {},
   "outputs": [],
   "source": [
    "## Losses\n",
    "g_sample = generator(noise_input)\n",
    "d_real = discriminator(images_input, reuse=False)\n",
    "d_fake = discriminator(g_sample, reuse=True)\n",
    "\n",
    "d_loss_real = tf.reduce_mean(\n",
    "    tf.nn.sigmoid_cross_entropy_with_logits(\n",
    "        logits=d_real, labels=tf.ones_like(d_real)))\n",
    "d_loss_fake = tf.reduce_mean(\n",
    "    tf.nn.sigmoid_cross_entropy_with_logits(\n",
    "        logits=d_fake, labels=tf.zeros_like(d_fake)))\n",
    "d_loss = d_loss_real + d_loss_fake\n",
    "g_loss = tf.reduce_mean(\n",
    "    tf.nn.sigmoid_cross_entropy_with_logits(\n",
    "        logits=d_fake, labels=tf.ones_like(d_fake)))\n",
    "\n",
    "## Summaries\n",
    "tiled_image_random = tile_images(g_sample, 6,6,28,28)\n",
    "tiled_image_interpolated = tile_images(generator(noise_input_interpolated, reuse=True), 6,6,28,28)\n",
    "gen_image_summary_op = tf.summary.image('generated_images', tiled_image_random, max_outputs=1)\n",
    "gen_image_summary_interpolated_op = tf.summary.image('generated_images_interpolated', tiled_image_interpolated, max_outputs=1)\n",
    "\n",
    "# Optimizers\n",
    "t_vars = tf.trainable_variables()\n",
    "d_opt = tf.train.AdamOptimizer(2e-4).minimize(d_loss, var_list=[var for var in t_vars if 'Discriminator' in var.name])\n",
    "g_opt = tf.train.AdamOptimizer(2e-4).minimize(g_loss, var_list=[var for var in t_vars if 'Generator' in var.name])\n",
    "\n",
    "#saver = tf.train.Saver(max_to_keep=1)"
   ]
  },
  {
   "cell_type": "code",
   "execution_count": null,
   "metadata": {},
   "outputs": [],
   "source": [
    "num_test_samples=36\n",
    "test_noise_random = noise((num_test_samples, NOISE_SIZE))\n",
    "test_noise_interpolated = noise((num_test_samples, NOISE_SIZE), dist='linspace')"
   ]
  },
  {
   "cell_type": "code",
   "execution_count": null,
   "metadata": {},
   "outputs": [],
   "source": [
    "num_epochs = 200\n",
    "\n",
    "# Start interactive session\n",
    "session = tf.InteractiveSession()\n",
    "# Init Variables\n",
    "tf.global_variables_initializer().run()\n",
    "timestamp = datetime.datetime.now().strftime(\"%Y-%m-%d_%H%M%S\")\n",
    "# Create writer instance and write summary\n",
    "writer = tf.summary.FileWriter(logdir=FLAGS.out_data_dir + \"/gan_mnist_{}\".format(timestamp), graph=session.graph)"
   ]
  },
  {
   "cell_type": "code",
   "execution_count": null,
   "metadata": {},
   "outputs": [],
   "source": [
    "# Iterate through epochs\n",
    "BATCH_SIZE = 100\n",
    "for epoch in range(FLAGS.epochs):\n",
    "    print(\"Epoch %d\" % epoch)\n",
    "    for n_batch, batch in enumerate(next_batch(train_X, BATCH_SIZE)):\n",
    "        # 1. Train Discriminator\n",
    "        #X_batch = images_to_vectors(batch.permute(0, 2, 3, 1).numpy())\n",
    "        batch_noise = noise((BATCH_SIZE, NOISE_SIZE))\n",
    "        feed_dict = {images_input: batch, noise_input: batch_noise}\n",
    "        _, d_error, d_pred_real, d_pred_fake = session.run(\n",
    "            [d_opt, d_loss, d_real, d_fake], feed_dict=feed_dict)\n",
    "\n",
    "        # 2. Train Generator\n",
    "        feed_dict = {noise_input: batch_noise}\n",
    "        _, g_error = session.run(\n",
    "            [g_opt, g_loss], feed_dict=feed_dict\n",
    "        )\n",
    "\n",
    "        if n_batch % 500 == 0:\n",
    "        #    display.clear_output(True)\n",
    "            # Generate images from test noise\n",
    "            test_image_tiled, gen_image_summary, test_image_tiled_interpolated, gen_image_summary_interpolated = session.run(\n",
    "                [tiled_image_random, gen_image_summary_op, tiled_image_interpolated, gen_image_summary_interpolated_op], \n",
    "                 feed_dict={noise_input: test_noise_random, noise_input_interpolated: test_noise_interpolated}\n",
    "            )\n",
    "\n",
    "            writer.add_summary(gen_image_summary, global_step=epoch*1000+n_batch)\n",
    "            writer.add_summary(gen_image_summary_interpolated, global_step=epoch*1000+n_batch)\n",
    "            \n",
    "            print(\"Epoch: {}, Batch: {}, D_Loss: {}, G_Loss: {}\".format(epoch, n_batch, d_error, g_error))\n",
    "        #    test_images = vectors_to_images(test_images)\n",
    "        #    # Log Images\n",
    "        #    logger.log_images(test_images, num_test_samples, epoch, n_batch, num_batches, format='NHWC');\n",
    "        #    # Log Status\n",
    "        #    logger.display_status(\n",
    "        #        epoch, num_epochs, n_batch, num_batches,\n",
    "        #        d_error, g_error, d_pred_real, d_pred_fake\n",
    "        #    )"
   ]
  },
  {
   "cell_type": "code",
   "execution_count": null,
   "metadata": {},
   "outputs": [],
   "source": []
  }
 ],
 "metadata": {
  "kernelspec": {
   "display_name": "Python 3",
   "language": "python",
   "name": "python3"
  },
  "language_info": {
   "codemirror_mode": {
    "name": "ipython",
    "version": 3
   },
   "file_extension": ".py",
   "mimetype": "text/x-python",
   "name": "python",
   "nbconvert_exporter": "python",
   "pygments_lexer": "ipython3",
   "version": "3.6.4"
  }
 },
 "nbformat": 4,
 "nbformat_minor": 2
}
