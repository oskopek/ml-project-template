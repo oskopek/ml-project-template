{
 "cells": [
  {
   "cell_type": "code",
   "execution_count": 1,
   "metadata": {},
   "outputs": [
    {
     "name": "stdout",
     "output_type": "stream",
     "text": [
      "Current directory: E:\\School\\ETH\\BoobsProject\\project\\models\n",
      "E:\\School\\ETH\\BoobsProject\\project\n"
     ]
    }
   ],
   "source": [
    "wd = %pwd\n",
    "print('Current directory:', wd)\n",
    "if wd.endswith('models'):\n",
    "    %cd .."
   ]
  },
  {
   "cell_type": "code",
   "execution_count": 2,
   "metadata": {},
   "outputs": [],
   "source": [
    "%load_ext autoreload\n",
    "%autoreload 2\n",
    "\n",
    "import tensorflow as tf\n",
    "import numpy as np\n",
    "import sys, os, time, datetime\n",
    "\n",
    "from models.base import BaseModel\n",
    "from resources.flags import FLAGS, define_flags"
   ]
  },
  {
   "cell_type": "code",
   "execution_count": 3,
   "metadata": {},
   "outputs": [],
   "source": [
    "# This can only be run once.\n",
    "define_flags()"
   ]
  },
  {
   "cell_type": "markdown",
   "metadata": {},
   "source": [
    "## Read the input data\n",
    "\n",
    "In this case, MNIST + batch and shuffle it. In our case, it will be quite different."
   ]
  },
  {
   "cell_type": "code",
   "execution_count": 4,
   "metadata": {},
   "outputs": [
    {
     "name": "stdout",
     "output_type": "stream",
     "text": [
      "Using device /gpu:0, and data format channels_first.\n",
      "Extracting data_in\\train-images-idx3-ubyte.gz\n",
      "Extracting data_in\\train-labels-idx1-ubyte.gz\n",
      "Extracting data_in\\t10k-images-idx3-ubyte.gz\n",
      "Extracting data_in\\t10k-labels-idx1-ubyte.gz\n"
     ]
    }
   ],
   "source": [
    "from tensorflow.examples.tutorials.mnist import input_data\n",
    "\n",
    "# Reset Tensorflow graph and create new session\n",
    "tf.reset_default_graph()\n",
    "session = tf.Session()\n",
    "\n",
    "def shuffle(a, b):\n",
    "    # Generate the permutation index array.\n",
    "    permutation = np.random.permutation(a.shape[0])\n",
    "    # Shuffle the arrays by giving the permutation in the square brackets.\n",
    "    return a[permutation], b[permutation]\n",
    "\n",
    "def load_data(data_dir):\n",
    "    \"\"\"Returns training and test tf.data.Dataset objects.\"\"\"\n",
    "    data = input_data.read_data_sets(data_dir, one_hot=True)\n",
    "    #train_ds = tf.data.Dataset.from_tensor_slices((data.train.images,\n",
    "    #                                               data.train.labels))\n",
    "    #test_ds = tf.data.Dataset.from_tensors(\n",
    "    #   (data.test.images, data.test.labels))\n",
    "    return (data.train, data.test)\n",
    "\n",
    "device, data_format = ('/gpu:0', 'channels_first')\n",
    "#if FLAGS.no_gpu or tfe.num_gpus() <= 0:\n",
    "#    device, data_format = ('/cpu:0', 'channels_last')\n",
    "print('Using device %s, and data format %s.' % (device, data_format))\n",
    "\n",
    "# Load the datasets\n",
    "train_ds, test_ds = load_data(FLAGS.in_data_dir)\n",
    "#train_ds = train_ds.shuffle(60000).batch(FLAGS.batch_size)\n",
    "train_X, train_Y = shuffle(train_ds.images, train_ds.labels)"
   ]
  },
  {
   "cell_type": "code",
   "execution_count": 5,
   "metadata": {},
   "outputs": [],
   "source": [
    "# Setup constatnts\n",
    "IMAGE_PIXELS=784\n",
    "NOISE_SIZE=100\n",
    "images_input = tf.placeholder(tf.float32, shape=(None, IMAGE_PIXELS))\n",
    "noise_input = tf.placeholder(tf.float32, shape=(None, NOISE_SIZE))"
   ]
  },
  {
   "cell_type": "code",
   "execution_count": 6,
   "metadata": {},
   "outputs": [],
   "source": [
    "## Discriminator\n",
    "def discriminator(X, var_scope=\"Discriminator\"):\n",
    "    with tf.variable_scope(var_scope, reuse=tf.AUTO_REUSE):\n",
    "        # Layer 1\n",
    "        dx = tf.layers.dense(X, units=1024, use_bias=True, activation=tf.nn.relu)\n",
    "        # Layer 2\n",
    "        dx = tf.layers.dense(dx, units=512, use_bias=True, activation=tf.nn.relu)\n",
    "        # Layer 3\n",
    "        dx = tf.layers.dense(dx, units=256, use_bias=True, activation=tf.nn.relu)\n",
    "        # Layer 4\n",
    "        d_out = tf.layers.dense(dx, units=1, use_bias=True, activation=tf.nn.relu)\n",
    "        return d_out"
   ]
  },
  {
   "cell_type": "code",
   "execution_count": 7,
   "metadata": {},
   "outputs": [],
   "source": [
    "## Generator\n",
    "def generator(X, var_scope='Generator'):\n",
    "    with tf.variable_scope(var_scope):\n",
    "        # Layer 1\n",
    "        gx = tf.layers.dense(X, units=265, use_bias=True, activation=tf.nn.relu)\n",
    "        # Layer 2\n",
    "        gx = tf.layers.dense(gx, units=512, use_bias=True, activation=tf.nn.relu)\n",
    "        # Layer 3\n",
    "        gx = tf.layers.dense(gx, units=1024, use_bias=True, activation=tf.nn.relu)\n",
    "        # Layer 4\n",
    "        g_out = tf.layers.dense(gx, units=784, use_bias=True, activation=tf.nn.relu)\n",
    "        return g_out"
   ]
  },
  {
   "cell_type": "code",
   "execution_count": 8,
   "metadata": {},
   "outputs": [],
   "source": [
    "## Losses\n",
    "g_sample = generator(noise_input)\n",
    "d_real = discriminator(images_input)\n",
    "d_fake = discriminator(g_sample)\n",
    "\n",
    "d_loss_real = tf.reduce_mean(tf.nn.sigmoid_cross_entropy_with_logits(logits=d_real, labels=tf.ones_like(d_real)))\n",
    "d_loss_fake = tf.reduce_mean(tf.nn.sigmoid_cross_entropy_with_logits(logits=d_fake, labels=tf.zeros_like(d_fake)))\n",
    "d_loss = d_loss_real + d_loss_fake\n",
    "g_loss = tf.reduce_mean(tf.nn.sigmoid_cross_entropy_with_logits(logits=d_fake, labels=tf.ones_like(d_fake)))\n",
    "\n",
    "## Summaries\n",
    "gen_image_summary_op = tf.summary.image('generated_image', tf.reshape(g_sample[0], (1, 28, 28, 1)), max_outputs=1)\n",
    "\n",
    "# Optimizers\n",
    "d_opt = tf.train.AdamOptimizer(2e-4).minimize(d_loss, var_list=tf.get_collection(tf.GraphKeys.GLOBAL_VARIABLES, scope='Discriminator'))\n",
    "g_opt = tf.train.AdamOptimizer(2e-4).minimize(g_loss, var_list=tf.get_collection(tf.GraphKeys.GLOBAL_VARIABLES, scope='Generator'))"
   ]
  },
  {
   "cell_type": "code",
   "execution_count": 9,
   "metadata": {},
   "outputs": [],
   "source": [
    "num_test_samples=16\n",
    "test_noise = np.random.normal(size=(num_test_samples, NOISE_SIZE))"
   ]
  },
  {
   "cell_type": "code",
   "execution_count": 10,
   "metadata": {},
   "outputs": [],
   "source": [
    "num_epochs = 200\n",
    "\n",
    "# Start interactive session\n",
    "session = tf.InteractiveSession()\n",
    "# Init Variables\n",
    "tf.global_variables_initializer().run()\n",
    "timestamp = datetime.datetime.now().strftime(\"%Y-%m-%d_%H%M%S\")\n",
    "# Create writer instance and write summary\n",
    "writer = tf.summary.FileWriter(logdir=FLAGS.out_data_dir + \"gan_mnist_{}\".format(timestamp), graph=session.graph)"
   ]
  },
  {
   "cell_type": "code",
   "execution_count": null,
   "metadata": {},
   "outputs": [
    {
     "name": "stdout",
     "output_type": "stream",
     "text": [
      "Epoch 0\n",
      "Epoch 1\n",
      "Epoch 2\n",
      "Epoch 3\n",
      "Epoch 4\n"
     ]
    }
   ],
   "source": [
    "def next_batch(arr, batch_size):\n",
    "    num_batches = int(len(arr) / batch_size)\n",
    "    for i in range(0, num_batches * batch_size, batch_size):\n",
    "        yield arr[i:i+batch_size]\n",
    "    yield arr[num_batches*batch_size:]\n",
    "\n",
    "# Iterate through epochs\n",
    "BATCH_SIZE = 100\n",
    "for epoch in range(FLAGS.epochs):\n",
    "    print(\"Epoch %d\" % epoch)\n",
    "    for n_batch, batch in enumerate(next_batch(train_X, BATCH_SIZE)):\n",
    "        # 1. Train Discriminator\n",
    "        #X_batch = images_to_vectors(batch.permute(0, 2, 3, 1).numpy())\n",
    "        feed_dict = {images_input: batch, noise_input: np.random.normal(size=(BATCH_SIZE, NOISE_SIZE))}\n",
    "        _, d_error, d_pred_real, d_pred_fake = session.run(\n",
    "            [d_opt, d_loss, d_real, d_fake], feed_dict=feed_dict\n",
    "        )\n",
    "\n",
    "        # 2. Train Generator\n",
    "        feed_dict = {noise_input: np.random.normal(size=(BATCH_SIZE, NOISE_SIZE))}\n",
    "        _, g_error = session.run(\n",
    "            [g_opt, g_loss], feed_dict=feed_dict\n",
    "        )\n",
    "\n",
    "        if n_batch % 100 == 0:\n",
    "        #    display.clear_output(True)\n",
    "            # Generate images from test noise\n",
    "            test_images, gen_image_summary = session.run(\n",
    "                [g_sample, gen_image_summary_op], feed_dict={noise_input: test_noise}\n",
    "            )\n",
    "            writer.add_summary(gen_image_summary, global_step=epoch*1000+n_batch)\n",
    "        #    test_images = vectors_to_images(test_images)\n",
    "        #    # Log Images\n",
    "        #    logger.log_images(test_images, num_test_samples, epoch, n_batch, num_batches, format='NHWC');\n",
    "        #    # Log Status\n",
    "        #    logger.display_status(\n",
    "        #        epoch, num_epochs, n_batch, num_batches,\n",
    "        #        d_error, g_error, d_pred_real, d_pred_fake\n",
    "        #    )"
   ]
  },
  {
   "cell_type": "code",
   "execution_count": 49,
   "metadata": {},
   "outputs": [],
   "source": []
  },
  {
   "cell_type": "code",
   "execution_count": 52,
   "metadata": {},
   "outputs": [
    {
     "name": "stdout",
     "output_type": "stream",
     "text": [
      "(<tf.Tensor 'IteratorGetNext_1:0' shape=(?, 784) dtype=float32>, <tf.Tensor 'IteratorGetNext_1:1' shape=(?, 10) dtype=float64>)\n"
     ]
    }
   ],
   "source": []
  },
  {
   "cell_type": "code",
   "execution_count": null,
   "metadata": {},
   "outputs": [],
   "source": []
  }
 ],
 "metadata": {
  "kernelspec": {
   "display_name": "Python 3",
   "language": "python",
   "name": "python3"
  },
  "language_info": {
   "codemirror_mode": {
    "name": "ipython",
    "version": 3
   },
   "file_extension": ".py",
   "mimetype": "text/x-python",
   "name": "python",
   "nbconvert_exporter": "python",
   "pygments_lexer": "ipython3",
   "version": "3.6.4"
  }
 },
 "nbformat": 4,
 "nbformat_minor": 2
}
