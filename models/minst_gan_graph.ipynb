{
 "cells": [
  {
   "cell_type": "code",
   "execution_count": 1,
   "metadata": {},
   "outputs": [
    {
     "name": "stdout",
     "output_type": "stream",
     "text": [
      "Current directory: E:\\School\\ETH\\BoobsProject\\project\\models\n",
      "E:\\School\\ETH\\BoobsProject\\project\n"
     ]
    }
   ],
   "source": [
    "wd = %pwd\n",
    "print('Current directory:', wd)\n",
    "if wd.endswith('models'):\n",
    "    %cd .."
   ]
  },
  {
   "cell_type": "code",
   "execution_count": 2,
   "metadata": {},
   "outputs": [],
   "source": [
    "%load_ext autoreload\n",
    "%autoreload 2\n",
    "\n",
    "import tensorflow as tf\n",
    "import tensorflow.contrib.eager as tfe\n",
    "import sys, os, time, datetime\n",
    "\n",
    "from models.base import BaseModel\n",
    "from resources.flags import FLAGS, define_flags"
   ]
  },
  {
   "cell_type": "code",
   "execution_count": 3,
   "metadata": {},
   "outputs": [],
   "source": [
    "# This can only be run once.\n",
    "define_flags()"
   ]
  },
  {
   "cell_type": "markdown",
   "metadata": {},
   "source": [
    "## Read the input data\n",
    "\n",
    "In this case, MNIST + batch and shuffle it. In our case, it will be quite different."
   ]
  },
  {
   "cell_type": "code",
   "execution_count": 56,
   "metadata": {},
   "outputs": [
    {
     "name": "stdout",
     "output_type": "stream",
     "text": [
      "Using device /cpu:0, and data format channels_last.\n",
      "Extracting data_in\\train-images-idx3-ubyte.gz\n",
      "Extracting data_in\\train-labels-idx1-ubyte.gz\n",
      "Extracting data_in\\t10k-images-idx3-ubyte.gz\n",
      "Extracting data_in\\t10k-labels-idx1-ubyte.gz\n"
     ]
    }
   ],
   "source": [
    "from tensorflow.examples.tutorials.mnist import input_data\n",
    "\n",
    "# Reset Tensorflow graph and create new session\n",
    "tf.reset_default_graph()\n",
    "session = tf.Session()\n",
    "\n",
    "def load_data(data_dir):\n",
    "    \"\"\"Returns training and test tf.data.Dataset objects.\"\"\"\n",
    "    data = input_data.read_data_sets(data_dir, one_hot=True)\n",
    "    train_ds = tf.data.Dataset.from_tensor_slices((data.train.images,\n",
    "                                                   data.train.labels))\n",
    "    test_ds = tf.data.Dataset.from_tensors(\n",
    "        (data.test.images, data.test.labels))\n",
    "    return (train_ds, test_ds)\n",
    "\n",
    "device, data_format = ('/gpu:0', 'channels_first')\n",
    "if FLAGS.no_gpu or tfe.num_gpus() <= 0:\n",
    "    device, data_format = ('/cpu:0', 'channels_last')\n",
    "print('Using device %s, and data format %s.' % (device, data_format))\n",
    "\n",
    "# Load the datasets\n",
    "train_ds, test_ds = load_data(FLAGS.in_data_dir)\n",
    "train_ds = train_ds.shuffle(60000).batch(FLAGS.batch_size)"
   ]
  },
  {
   "cell_type": "code",
   "execution_count": 57,
   "metadata": {},
   "outputs": [],
   "source": [
    "# Setup constatnts\n",
    "IMAGE_PIXELS=784\n",
    "NOISE_SIZE=100\n",
    "images_input = tf.placeholder(tf.float32, shape=(None, IMAGE_PIXELS))\n",
    "noise_input = tf.placeholder(tf.float32, shape=(None, NOISE_SIZE))"
   ]
  },
  {
   "cell_type": "code",
   "execution_count": 58,
   "metadata": {},
   "outputs": [],
   "source": [
    "## Discriminator\n",
    "def discriminator(X, var_scope=\"Discriminator\"):\n",
    "    with tf.variable_scope(var_scope, reuse=tf.AUTO_REUSE):\n",
    "        # Layer 1\n",
    "        dx = tf.layers.dense(X, units=1024, use_bias=True, activation=tf.nn.relu)\n",
    "        # Layer 2\n",
    "        dx = tf.layers.dense(dx, units=512, use_bias=True, activation=tf.nn.relu)\n",
    "        # Layer 3\n",
    "        dx = tf.layers.dense(dx, units=256, use_bias=True, activation=tf.nn.relu)\n",
    "        # Layer 4\n",
    "        d_out = tf.layers.dense(dx, units=1, use_bias=True, activation=tf.nn.relu)\n",
    "        return d_out"
   ]
  },
  {
   "cell_type": "code",
   "execution_count": 59,
   "metadata": {},
   "outputs": [],
   "source": [
    "## Generator\n",
    "def generator(X, var_scope='Generator'):\n",
    "    with tf.variable_scope(var_scope):\n",
    "        # Layer 1\n",
    "        gx = tf.layers.dense(X, units=265, use_bias=True, activation=tf.nn.relu)\n",
    "        # Layer 2\n",
    "        gx = tf.layers.dense(gx, units=512, use_bias=True, activation=tf.nn.relu)\n",
    "        # Layer 3\n",
    "        gx = tf.layers.dense(gx, units=1024, use_bias=True, activation=tf.nn.relu)\n",
    "        # Layer 4\n",
    "        g_out = tf.layers.dense(gx, units=784, use_bias=True, activation=tf.nn.relu)\n",
    "        return g_out"
   ]
  },
  {
   "cell_type": "code",
   "execution_count": 60,
   "metadata": {},
   "outputs": [],
   "source": [
    "## Losses\n",
    "g_sample = generator(noise_input)\n",
    "d_real = discriminator(images_input)\n",
    "d_fake = discriminator(g_sample)\n",
    "\n",
    "d_loss_real = tf.reduce_mean(tf.nn.sigmoid_cross_entropy_with_logits(logits=d_real, labels=tf.ones_like(d_real)))\n",
    "d_loss_fake = tf.reduce_mean(tf.nn.sigmoid_cross_entropy_with_logits(logits=d_fake, labels=tf.zeros_like(d_fake)))\n",
    "d_loss = d_loss_real + d_loss_fake\n",
    "g_loss = tf.reduce_mean(tf.nn.sigmoid_cross_entropy_with_logits(logits=d_fake, labels=tf.ones_like(d_fake)))\n",
    "\n",
    "\n",
    "# Optimizers\n",
    "d_opt = tf.train.AdamOptimizer(2e-4).minimize(d_loss, var_list=tf.get_collection(tf.GraphKeys.GLOBAL_VARIABLES, scope='Discriminator'))\n",
    "g_opt = tf.train.AdamOptimizer(2e-4).minimize(g_loss, var_list=tf.get_collection(tf.GraphKeys.GLOBAL_VARIABLES, scope='Generator'))"
   ]
  },
  {
   "cell_type": "code",
   "execution_count": 61,
   "metadata": {},
   "outputs": [],
   "source": [
    "num_test_samples=16\n",
    "test_noise = tf.random_normal((num_test_samples, NOISE_SIZE))"
   ]
  },
  {
   "cell_type": "code",
   "execution_count": 62,
   "metadata": {},
   "outputs": [],
   "source": [
    "num_epochs = 200\n",
    "\n",
    "# Start interactive session\n",
    "session = tf.InteractiveSession()\n",
    "# Init Variables\n",
    "tf.global_variables_initializer().run()"
   ]
  },
  {
   "cell_type": "code",
   "execution_count": 63,
   "metadata": {},
   "outputs": [
    {
     "ename": "TypeError",
     "evalue": "'Iterator' object is not iterable",
     "output_type": "error",
     "traceback": [
      "\u001b[1;31m---------------------------------------------------------------------------\u001b[0m",
      "\u001b[1;31mTypeError\u001b[0m                                 Traceback (most recent call last)",
      "\u001b[1;32m<ipython-input-63-ca51b01ba96c>\u001b[0m in \u001b[0;36m<module>\u001b[1;34m()\u001b[0m\n\u001b[0;32m      1\u001b[0m \u001b[1;31m# Iterate through epochs\u001b[0m\u001b[1;33m\u001b[0m\u001b[1;33m\u001b[0m\u001b[0m\n\u001b[0;32m      2\u001b[0m \u001b[1;32mfor\u001b[0m \u001b[0mepoch\u001b[0m \u001b[1;32min\u001b[0m \u001b[0mrange\u001b[0m\u001b[1;33m(\u001b[0m\u001b[0mFLAGS\u001b[0m\u001b[1;33m.\u001b[0m\u001b[0mepochs\u001b[0m\u001b[1;33m)\u001b[0m\u001b[1;33m:\u001b[0m\u001b[1;33m\u001b[0m\u001b[0m\n\u001b[1;32m----> 3\u001b[1;33m     \u001b[1;32mfor\u001b[0m \u001b[0mn_batch\u001b[0m\u001b[1;33m,\u001b[0m \u001b[1;33m(\u001b[0m\u001b[0mbatch\u001b[0m\u001b[1;33m,\u001b[0m\u001b[0m_\u001b[0m\u001b[1;33m)\u001b[0m \u001b[1;32min\u001b[0m \u001b[0menumerate\u001b[0m\u001b[1;33m(\u001b[0m\u001b[0mtrain_ds\u001b[0m\u001b[1;33m.\u001b[0m\u001b[0mmake_initializable_iterator\u001b[0m\u001b[1;33m(\u001b[0m\u001b[1;33m)\u001b[0m\u001b[1;33m)\u001b[0m\u001b[1;33m:\u001b[0m\u001b[1;33m\u001b[0m\u001b[0m\n\u001b[0m\u001b[0;32m      4\u001b[0m         \u001b[1;31m# 1. Train Discriminator\u001b[0m\u001b[1;33m\u001b[0m\u001b[1;33m\u001b[0m\u001b[0m\n\u001b[0;32m      5\u001b[0m         \u001b[0mprint\u001b[0m\u001b[1;33m(\u001b[0m\u001b[0mbatch\u001b[0m\u001b[1;33m.\u001b[0m\u001b[0mshape\u001b[0m\u001b[1;33m)\u001b[0m\u001b[1;33m\u001b[0m\u001b[0m\n",
      "\u001b[1;31mTypeError\u001b[0m: 'Iterator' object is not iterable"
     ]
    }
   ],
   "source": [
    "def next_batch()\n",
    "\n",
    "# Iterate through epochs\n",
    "for epoch in range(FLAGS.epochs):\n",
    "    for n_batch, (batch,_) in enumerate(train_ds.make_initializable_iterator()):\n",
    "        # 1. Train Discriminator\n",
    "        print(batch.shape)\n",
    "        #X_batch = images_to_vectors(batch.permute(0, 2, 3, 1).numpy())\n",
    "        feed_dict = {images_input: batch, noise_input: tf.random_normal(BATCH_SIZE, NOISE_SIZE)}\n",
    "        _, d_error, d_pred_real, d_pred_fake = session.run(\n",
    "            [d_opt, d_loss, d_real, d_fake], feed_dict=feed_dict\n",
    "        )\n",
    "\n",
    "        # 2. Train Generator\n",
    "        feed_dict = {noise_input: noise(BATCH_SIZE, NOISE_SIZE)}\n",
    "        _, g_error = session.run(\n",
    "            [g_opt, g_loss], feed_dict=feed_dict\n",
    "        )\n",
    "\n",
    "        if n_batch % 1 == 0:\n",
    "        #    display.clear_output(True)\n",
    "            # Generate images from test noise\n",
    "            test_images = session.run(\n",
    "                G_sample, feed_dict={Z: test_noise}\n",
    "            )\n",
    "        #    test_images = vectors_to_images(test_images)\n",
    "        #    # Log Images\n",
    "        #    logger.log_images(test_images, num_test_samples, epoch, n_batch, num_batches, format='NHWC');\n",
    "        #    # Log Status\n",
    "        #    logger.display_status(\n",
    "        #        epoch, num_epochs, n_batch, num_batches,\n",
    "        #        d_error, g_error, d_pred_real, d_pred_fake\n",
    "        #    )"
   ]
  },
  {
   "cell_type": "code",
   "execution_count": 49,
   "metadata": {},
   "outputs": [],
   "source": []
  },
  {
   "cell_type": "code",
   "execution_count": 52,
   "metadata": {},
   "outputs": [
    {
     "name": "stdout",
     "output_type": "stream",
     "text": [
      "(<tf.Tensor 'IteratorGetNext_1:0' shape=(?, 784) dtype=float32>, <tf.Tensor 'IteratorGetNext_1:1' shape=(?, 10) dtype=float64>)\n"
     ]
    }
   ],
   "source": []
  },
  {
   "cell_type": "code",
   "execution_count": null,
   "metadata": {},
   "outputs": [],
   "source": []
  }
 ],
 "metadata": {
  "kernelspec": {
   "display_name": "Python 3",
   "language": "python",
   "name": "python3"
  },
  "language_info": {
   "codemirror_mode": {
    "name": "ipython",
    "version": 3
   },
   "file_extension": ".py",
   "mimetype": "text/x-python",
   "name": "python",
   "nbconvert_exporter": "python",
   "pygments_lexer": "ipython3",
   "version": "3.6.4"
  }
 },
 "nbformat": 4,
 "nbformat_minor": 2
}
