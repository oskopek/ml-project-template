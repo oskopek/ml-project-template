{
 "cells": [
  {
   "cell_type": "code",
   "execution_count": 1,
   "metadata": {},
   "outputs": [
    {
     "name": "stdout",
     "output_type": "stream",
     "text": [
      "Current directory: E:\\School\\ETH\\BoobsProject\\project\\models\n",
      "E:\\School\\ETH\\BoobsProject\\project\n"
     ]
    }
   ],
   "source": [
    "wd = %pwd\n",
    "print('Current directory:', wd)\n",
    "if wd.endswith('models'):\n",
    "    %cd .."
   ]
  },
  {
   "cell_type": "code",
   "execution_count": 2,
   "metadata": {},
   "outputs": [],
   "source": [
    "%load_ext autoreload\n",
    "%autoreload 2\n",
    "\n",
    "import tensorflow as tf\n",
    "import numpy as np\n",
    "import sys, os, time, datetime\n",
    "\n",
    "from models.base import BaseModel\n",
    "from resources.flags import FLAGS, define_flags"
   ]
  },
  {
   "cell_type": "code",
   "execution_count": 3,
   "metadata": {},
   "outputs": [],
   "source": [
    "# This can only be run once.\n",
    "define_flags()"
   ]
  },
  {
   "cell_type": "markdown",
   "metadata": {},
   "source": [
    "## Read the input data\n",
    "\n",
    "In this case, MNIST + batch and shuffle it. In our case, it will be quite different."
   ]
  },
  {
   "cell_type": "code",
   "execution_count": 4,
   "metadata": {},
   "outputs": [
    {
     "name": "stdout",
     "output_type": "stream",
     "text": [
      "Using device /gpu:0, and data format channels_first.\n",
      "Extracting data_in\\train-images-idx3-ubyte.gz\n",
      "Extracting data_in\\train-labels-idx1-ubyte.gz\n",
      "Extracting data_in\\t10k-images-idx3-ubyte.gz\n",
      "Extracting data_in\\t10k-labels-idx1-ubyte.gz\n"
     ]
    }
   ],
   "source": [
    "from tensorflow.examples.tutorials.mnist import input_data\n",
    "\n",
    "# Reset Tensorflow graph and create new session\n",
    "tf.reset_default_graph()\n",
    "session = tf.Session()\n",
    "\n",
    "def shuffle(a, b):\n",
    "    # Generate the permutation index array.\n",
    "    permutation = np.random.permutation(a.shape[0])\n",
    "    # Shuffle the arrays by giving the permutation in the square brackets.\n",
    "    return a[permutation], b[permutation]\n",
    "\n",
    "def load_data(data_dir):\n",
    "    \"\"\"Returns training and test tf.data.Dataset objects.\"\"\"\n",
    "    data = input_data.read_data_sets(data_dir, one_hot=True)\n",
    "    #train_ds = tf.data.Dataset.from_tensor_slices((data.train.images,\n",
    "    #                                               data.train.labels))\n",
    "    #test_ds = tf.data.Dataset.from_tensors(\n",
    "    #   (data.test.images, data.test.labels))\n",
    "    return (data.train, data.test)\n",
    "\n",
    "device, data_format = ('/gpu:0', 'channels_first')\n",
    "#if FLAGS.no_gpu or tfe.num_gpus() <= 0:\n",
    "#    device, data_format = ('/cpu:0', 'channels_last')\n",
    "print('Using device %s, and data format %s.' % (device, data_format))\n",
    "\n",
    "# Load the datasets\n",
    "train_ds, test_ds = load_data(FLAGS.in_data_dir)\n",
    "#train_ds = train_ds.shuffle(60000).batch(FLAGS.batch_size)\n",
    "train_X, train_Y = shuffle(train_ds.images, train_ds.labels)"
   ]
  },
  {
   "cell_type": "code",
   "execution_count": 5,
   "metadata": {},
   "outputs": [],
   "source": [
    "# Setup constatnts\n",
    "IMAGE_PIXELS=784\n",
    "NOISE_SIZE=100\n",
    "images_input = tf.placeholder(tf.float32, shape=(None, IMAGE_PIXELS))\n",
    "noise_input = tf.placeholder(tf.float32, shape=(None, NOISE_SIZE))"
   ]
  },
  {
   "cell_type": "code",
   "execution_count": 6,
   "metadata": {},
   "outputs": [],
   "source": [
    "## Discriminator\n",
    "def discriminator(X, reuse):\n",
    "    with tf.variable_scope(\"Discriminator\", reuse=reuse):\n",
    "        # Layer 1\n",
    "        dx = tf.layers.dense(X, units=1024, kernel_initializer=tf.random_normal_initializer(stddev=0.02), activation=tf.nn.relu, name='fc1')\n",
    "        # Layer 2\n",
    "        dx = tf.layers.dense(dx, units=512, activation=tf.nn.relu, name='fc2')\n",
    "        # Layer 3\n",
    "        dx = tf.layers.dense(dx, units=256, activation=tf.nn.relu, name='fc3')\n",
    "        # Layer 4\n",
    "        d_out = tf.layers.dense(dx, units=1, kernel_initializer=tf.random_normal_initializer(stddev=0.02), name='fc_out')\n",
    "        return d_out"
   ]
  },
  {
   "cell_type": "code",
   "execution_count": 7,
   "metadata": {},
   "outputs": [],
   "source": [
    "## Generator\n",
    "def generator(X, reuse=False):\n",
    "    with tf.variable_scope('Generator', reuse=reuse):\n",
    "        # Layer 1\n",
    "        gx = tf.layers.dense(X, units=128, activation=tf.nn.relu, name='fc1')\n",
    "        # Layer 2\n",
    "        gx = tf.layers.dense(gx, units=512, activation=tf.nn.relu, name='fc2')\n",
    "        # Layer 3\n",
    "        gx = tf.layers.dense(gx, units=1024, activation=tf.nn.relu, name='fc3')\n",
    "        # Layer 4\n",
    "        g_out = tf.layers.dense(gx, units=784, activation=tf.nn.sigmoid, name='fc_out')\n",
    "        return g_out"
   ]
  },
  {
   "cell_type": "code",
   "execution_count": 8,
   "metadata": {},
   "outputs": [],
   "source": [
    "## Losses\n",
    "g_sample = generator(noise_input)\n",
    "d_real = discriminator(images_input, reuse=False)\n",
    "d_fake = discriminator(g_sample, reuse=True)\n",
    "\n",
    "d_loss_real = tf.reduce_mean(tf.nn.sigmoid_cross_entropy_with_logits(logits=d_real, labels=tf.ones_like(d_real)))\n",
    "d_loss_fake = tf.reduce_mean(tf.nn.sigmoid_cross_entropy_with_logits(logits=d_fake, labels=tf.zeros_like(d_fake)))\n",
    "d_loss = d_loss_real + d_loss_fake\n",
    "g_loss = tf.reduce_mean(tf.nn.sigmoid_cross_entropy_with_logits(logits=d_fake, labels=tf.ones_like(d_fake)))\n",
    "\n",
    "## Summaries\n",
    "gen_image_summary_op = tf.summary.image('generated_image0', tf.reshape(g_sample[0], (1, 28, 28, 1)), max_outputs=1)\n",
    "gen_image_summary_op1 = tf.summary.image('generated_image1', tf.reshape(g_sample[5], (1, 28, 28, 1)), max_outputs=1)\n",
    "gen_image_summary_op2 = tf.summary.image('generated_image2', tf.reshape(g_sample[10], (1, 28, 28, 1)), max_outputs=1)\n",
    "gen_image_summary_op3 = tf.summary.image('generated_image3', tf.reshape(g_sample[15], (1, 28, 28, 1)), max_outputs=1)\n",
    "\n",
    "# Optimizers\n",
    "t_vars = tf.trainable_variables()\n",
    "d_opt = tf.train.AdamOptimizer(2e-4).minimize(d_loss, var_list=[var for var in t_vars if 'Discriminator' in var.name])\n",
    "g_opt = tf.train.AdamOptimizer(2e-4).minimize(g_loss, var_list=[var for var in t_vars if 'Generator' in var.name])\n",
    "\n",
    "saver = tf.train.Saver(max_to_keep=1)"
   ]
  },
  {
   "cell_type": "code",
   "execution_count": 11,
   "metadata": {},
   "outputs": [],
   "source": [
    "num_test_samples=16\n",
    "test_noise = np.random.uniform(-1, 1, size=(num_test_samples, NOISE_SIZE))"
   ]
  },
  {
   "cell_type": "code",
   "execution_count": null,
   "metadata": {},
   "outputs": [],
   "source": [
    "num_epochs = 200\n",
    "\n",
    "# Start interactive session\n",
    "session = tf.InteractiveSession()\n",
    "# Init Variables\n",
    "tf.global_variables_initializer().run()\n",
    "timestamp = datetime.datetime.now().strftime(\"%Y-%m-%d_%H%M%S\")\n",
    "# Create writer instance and write summary\n",
    "writer = tf.summary.FileWriter(logdir=FLAGS.out_data_dir + \"/gan_mnist_{}\".format(timestamp), graph=session.graph)"
   ]
  },
  {
   "cell_type": "code",
   "execution_count": null,
   "metadata": {},
   "outputs": [
    {
     "name": "stdout",
     "output_type": "stream",
     "text": [
      "Epoch 0\n",
      "Epoch: 0, Batch: 0, D_Loss: 1.3990464210510254, G_Loss: 0.7685458660125732\n",
      "Epoch: 0, Batch: 100, D_Loss: 0.009718410670757294, G_Loss: 6.658822059631348\n",
      "Epoch: 0, Batch: 200, D_Loss: 0.01664705015718937, G_Loss: 10.806174278259277\n",
      "Epoch: 0, Batch: 300, D_Loss: 0.051274437457323074, G_Loss: 16.35346221923828\n",
      "Epoch: 0, Batch: 400, D_Loss: 0.003366808407008648, G_Loss: 7.266982555389404\n",
      "Epoch: 0, Batch: 500, D_Loss: 0.002909835195168853, G_Loss: 9.584766387939453\n",
      "Epoch 1\n",
      "Epoch: 1, Batch: 0, D_Loss: 0.008390938863158226, G_Loss: 11.991486549377441\n",
      "Epoch: 1, Batch: 100, D_Loss: 0.2796519696712494, G_Loss: 8.915543556213379\n",
      "Epoch: 1, Batch: 200, D_Loss: 0.012744173407554626, G_Loss: 6.951897144317627\n",
      "Epoch: 1, Batch: 300, D_Loss: 0.02673703245818615, G_Loss: 8.6852445602417\n",
      "Epoch: 1, Batch: 400, D_Loss: 0.0033038645051419735, G_Loss: 6.234643936157227\n",
      "Epoch: 1, Batch: 500, D_Loss: 0.00043548110988922417, G_Loss: 7.992330551147461\n",
      "Epoch 2\n",
      "Epoch: 2, Batch: 0, D_Loss: 0.0005774685414507985, G_Loss: 8.912068367004395\n",
      "Epoch: 2, Batch: 100, D_Loss: 9.700377268018201e-05, G_Loss: 9.527544975280762\n",
      "Epoch: 2, Batch: 200, D_Loss: 0.00017638482677284628, G_Loss: 9.154516220092773\n",
      "Epoch: 2, Batch: 300, D_Loss: 0.00014803773956373334, G_Loss: 9.545770645141602\n",
      "Epoch: 2, Batch: 400, D_Loss: 0.0005143482703715563, G_Loss: 8.48654556274414\n",
      "Epoch: 2, Batch: 500, D_Loss: 0.0014809112763032317, G_Loss: 7.08249568939209\n",
      "Epoch 3\n",
      "Epoch: 3, Batch: 0, D_Loss: 0.021777724847197533, G_Loss: 6.012514114379883\n",
      "Epoch: 3, Batch: 100, D_Loss: 0.000590265030041337, G_Loss: 8.070723533630371\n",
      "Epoch: 3, Batch: 200, D_Loss: 0.0005272619891911745, G_Loss: 8.869184494018555\n",
      "Epoch: 3, Batch: 300, D_Loss: 0.00016419426538050175, G_Loss: 9.554274559020996\n",
      "Epoch: 3, Batch: 400, D_Loss: 0.0002327230031369254, G_Loss: 10.468097686767578\n",
      "Epoch: 3, Batch: 500, D_Loss: 0.00017054460477083921, G_Loss: 9.90396785736084\n",
      "Epoch 4\n",
      "Epoch: 4, Batch: 0, D_Loss: 0.00015410406922455877, G_Loss: 10.77889633178711\n",
      "Epoch: 4, Batch: 100, D_Loss: 0.0014505819417536259, G_Loss: 7.821679592132568\n",
      "Epoch: 4, Batch: 200, D_Loss: 0.0005900189280509949, G_Loss: 15.025595664978027\n",
      "Epoch: 4, Batch: 300, D_Loss: 0.15164688229560852, G_Loss: 11.749419212341309\n",
      "Epoch: 4, Batch: 400, D_Loss: 0.12666986882686615, G_Loss: 35.57793045043945\n",
      "Epoch: 4, Batch: 500, D_Loss: 0.00034103018697351217, G_Loss: 9.134775161743164\n",
      "Epoch 5\n",
      "Epoch: 5, Batch: 0, D_Loss: 0.0005521299317479134, G_Loss: 8.066350936889648\n",
      "Epoch: 5, Batch: 100, D_Loss: 0.0062105474062263966, G_Loss: 6.333082675933838\n",
      "Epoch: 5, Batch: 200, D_Loss: 0.002639990532770753, G_Loss: 7.97846794128418\n",
      "Epoch: 5, Batch: 300, D_Loss: 6.486795609816909e-05, G_Loss: 10.737504959106445\n",
      "Epoch: 5, Batch: 400, D_Loss: 0.0020891092717647552, G_Loss: 7.427147388458252\n",
      "Epoch: 5, Batch: 500, D_Loss: 0.0003924269403796643, G_Loss: 9.787528038024902\n",
      "Epoch 6\n",
      "Epoch: 6, Batch: 0, D_Loss: 0.00017587064940016717, G_Loss: 15.12506103515625\n",
      "Epoch: 6, Batch: 100, D_Loss: 0.00022528492263518274, G_Loss: 10.117274284362793\n",
      "Epoch: 6, Batch: 200, D_Loss: 1.0899091648752801e-05, G_Loss: 12.941864967346191\n"
     ]
    }
   ],
   "source": [
    "def next_batch(arr, batch_size):\n",
    "    num_batches = int(len(arr) / batch_size)\n",
    "    for i in range(0, num_batches * batch_size, batch_size):\n",
    "        yield arr[i:i+batch_size]\n",
    "    yield arr[num_batches*batch_size:]\n",
    "\n",
    "# Iterate through epochs\n",
    "BATCH_SIZE = 100\n",
    "for epoch in range(FLAGS.epochs):\n",
    "    print(\"Epoch %d\" % epoch)\n",
    "    for n_batch, batch in enumerate(next_batch(train_X, BATCH_SIZE)):\n",
    "        # 1. Train Discriminator\n",
    "        #X_batch = images_to_vectors(batch.permute(0, 2, 3, 1).numpy())\n",
    "        batch_noise = np.random.uniform(-1, 1, [BATCH_SIZE, NOISE_SIZE]).astype(np.float32)\n",
    "        feed_dict = {images_input: batch, noise_input: batch_noise}\n",
    "        _, d_error, d_pred_real, d_pred_fake = session.run(\n",
    "            [d_opt, d_loss, d_real, d_fake], feed_dict=feed_dict\n",
    "        )\n",
    "\n",
    "        # 2. Train Generator\n",
    "        feed_dict = {noise_input: batch_noise}\n",
    "        _, g_error = session.run(\n",
    "            [g_opt, g_loss], feed_dict=feed_dict\n",
    "        )\n",
    "\n",
    "        if n_batch % 100 == 0:\n",
    "        #    display.clear_output(True)\n",
    "            # Generate images from test noise\n",
    "            test_images, gen_image_summary, gen_image_summary1, gen_image_summary2, gen_image_summary3 = session.run(\n",
    "                [g_sample, gen_image_summary_op, gen_image_summary_op1, gen_image_summary_op2, gen_image_summary_op3], feed_dict={noise_input: test_noise}\n",
    "            )\n",
    "            writer.add_summary(gen_image_summary, global_step=epoch*1000+n_batch)\n",
    "            writer.add_summary(gen_image_summary1, global_step=epoch*1000+n_batch)\n",
    "            writer.add_summary(gen_image_summary2, global_step=epoch*1000+n_batch)\n",
    "            writer.add_summary(gen_image_summary3, global_step=epoch*1000+n_batch)\n",
    "            \n",
    "            print(\"Epoch: {}, Batch: {}, D_Loss: {}, G_Loss: {}\".format(epoch, n_batch, d_error, g_error))\n",
    "        #    test_images = vectors_to_images(test_images)\n",
    "        #    # Log Images\n",
    "        #    logger.log_images(test_images, num_test_samples, epoch, n_batch, num_batches, format='NHWC');\n",
    "        #    # Log Status\n",
    "        #    logger.display_status(\n",
    "        #        epoch, num_epochs, n_batch, num_batches,\n",
    "        #        d_error, g_error, d_pred_real, d_pred_fake\n",
    "        #    )"
   ]
  },
  {
   "cell_type": "code",
   "execution_count": 49,
   "metadata": {},
   "outputs": [],
   "source": []
  },
  {
   "cell_type": "code",
   "execution_count": 52,
   "metadata": {},
   "outputs": [
    {
     "name": "stdout",
     "output_type": "stream",
     "text": [
      "(<tf.Tensor 'IteratorGetNext_1:0' shape=(?, 784) dtype=float32>, <tf.Tensor 'IteratorGetNext_1:1' shape=(?, 10) dtype=float64>)\n"
     ]
    }
   ],
   "source": []
  },
  {
   "cell_type": "code",
   "execution_count": null,
   "metadata": {},
   "outputs": [],
   "source": []
  }
 ],
 "metadata": {
  "kernelspec": {
   "display_name": "Python 3",
   "language": "python",
   "name": "python3"
  },
  "language_info": {
   "codemirror_mode": {
    "name": "ipython",
    "version": 3
   },
   "file_extension": ".py",
   "mimetype": "text/x-python",
   "name": "python",
   "nbconvert_exporter": "python",
   "pygments_lexer": "ipython3",
   "version": "3.6.4"
  }
 },
 "nbformat": 4,
 "nbformat_minor": 2
}
